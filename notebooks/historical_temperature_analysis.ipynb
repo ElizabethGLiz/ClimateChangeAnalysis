{
 "cells": [
  {
   "cell_type": "markdown",
   "metadata": {},
   "source": [
    "# Climate Change Data Analysis Based On Historical Temperature Data\n",
    "----------------------------------------------------------------------"
   ]
  },
  {
   "cell_type": "markdown",
   "metadata": {},
   "source": [
    "Data from NASA Goddard Institute for Space Studies (GISS) "
   ]
  },
  {
   "cell_type": "markdown",
   "metadata": {},
   "source": [
    "Packages to be imported "
   ]
  },
  {
   "cell_type": "code",
   "execution_count": 69,
   "metadata": {},
   "outputs": [],
   "source": [
    "# Import the pandas library and alias it as pd for ease of use\n",
    "import pandas as pd\n",
    "\n",
    "# Import the statsmodels.api module and alias it as sm for ease of use\n",
    "import statsmodels.api as sm\n",
    "\n",
    "# Import the numpy library and alias it as np for ease of use\n",
    "import numpy as np\n",
    "\n",
    "# Import the graph_objs module from the plotly library to create interactive graphs\n",
    "import plotly.graph_objs as go\n",
    "\n",
    "# Import the seaborn library for statistical data visualization\n",
    "import seaborn as sns\n",
    "\n",
    "# Import the os module to perform operating system related tasks\n",
    "import os\n",
    "\n",
    "\n"
   ]
  },
  {
   "cell_type": "markdown",
   "metadata": {},
   "source": [
    " ## Hemispheric Temperature Change"
   ]
  },
  {
   "cell_type": "code",
   "execution_count": null,
   "metadata": {},
   "outputs": [],
   "source": []
  },
  {
   "cell_type": "code",
   "execution_count": 70,
   "metadata": {},
   "outputs": [],
   "source": [
    "# Get the current working directory\n",
    "current_directory = os.getcwd()\n",
    "\n",
    "# Get the parent directory (directory before the current directory)\n",
    "parent_directory = os.path.dirname(current_directory)\n"
   ]
  },
  {
   "cell_type": "code",
   "execution_count": 71,
   "metadata": {},
   "outputs": [
    {
     "name": "stdout",
     "output_type": "stream",
     "text": [
      "<class 'pandas.core.frame.DataFrame'>\n",
      "RangeIndex: 144 entries, 0 to 143\n",
      "Data columns (total 15 columns):\n",
      " #   Column   Non-Null Count  Dtype  \n",
      "---  ------   --------------  -----  \n",
      " 0   Year     144 non-null    int64  \n",
      " 1   Glob     144 non-null    float64\n",
      " 2   NHem     144 non-null    float64\n",
      " 3   SHem     144 non-null    float64\n",
      " 4   24N-90N  144 non-null    float64\n",
      " 5   24S-24N  144 non-null    float64\n",
      " 6   90S-24S  144 non-null    float64\n",
      " 7   64N-90N  144 non-null    float64\n",
      " 8   44N-64N  144 non-null    float64\n",
      " 9   24N-44N  144 non-null    float64\n",
      " 10  EQU-24N  144 non-null    float64\n",
      " 11  24S-EQU  144 non-null    float64\n",
      " 12  44S-24S  144 non-null    float64\n",
      " 13  64S-44S  144 non-null    float64\n",
      " 14  90S-64S  144 non-null    float64\n",
      "dtypes: float64(14), int64(1)\n",
      "memory usage: 17.0 KB\n"
     ]
    },
    {
     "data": {
      "text/plain": [
       "(144, 15)"
      ]
     },
     "execution_count": 71,
     "metadata": {},
     "output_type": "execute_result"
    }
   ],
   "source": [
    "# Read the CSV file into a pandas DataFrame\n",
    "df_temp_hemisphere = pd.read_csv(parent_directory+\"\\\\data/historical_temperature/Hemispheric Temperature Change/temp_hemisphere.csv\")\n",
    "df_temp_hemisphere.info()\n",
    "# Display the shape of the DataFrame (number of rows and columns)\n",
    "df_temp_hemisphere.shape\n"
   ]
  },
  {
   "cell_type": "code",
   "execution_count": 72,
   "metadata": {},
   "outputs": [
    {
     "data": {
      "text/html": [
       "<div>\n",
       "<style scoped>\n",
       "    .dataframe tbody tr th:only-of-type {\n",
       "        vertical-align: middle;\n",
       "    }\n",
       "\n",
       "    .dataframe tbody tr th {\n",
       "        vertical-align: top;\n",
       "    }\n",
       "\n",
       "    .dataframe thead th {\n",
       "        text-align: right;\n",
       "    }\n",
       "</style>\n",
       "<table border=\"1\" class=\"dataframe\">\n",
       "  <thead>\n",
       "    <tr style=\"text-align: right;\">\n",
       "      <th></th>\n",
       "      <th>Year</th>\n",
       "      <th>Glob</th>\n",
       "      <th>NHem</th>\n",
       "      <th>SHem</th>\n",
       "      <th>24N-90N</th>\n",
       "      <th>24S-24N</th>\n",
       "      <th>90S-24S</th>\n",
       "      <th>64N-90N</th>\n",
       "      <th>44N-64N</th>\n",
       "      <th>24N-44N</th>\n",
       "      <th>EQU-24N</th>\n",
       "      <th>24S-EQU</th>\n",
       "      <th>44S-24S</th>\n",
       "      <th>64S-44S</th>\n",
       "      <th>90S-64S</th>\n",
       "    </tr>\n",
       "  </thead>\n",
       "  <tbody>\n",
       "    <tr>\n",
       "      <th>0</th>\n",
       "      <td>1880</td>\n",
       "      <td>-0.17</td>\n",
       "      <td>-0.28</td>\n",
       "      <td>-0.05</td>\n",
       "      <td>-0.38</td>\n",
       "      <td>-0.13</td>\n",
       "      <td>-0.02</td>\n",
       "      <td>-0.80</td>\n",
       "      <td>-0.52</td>\n",
       "      <td>-0.26</td>\n",
       "      <td>-0.14</td>\n",
       "      <td>-0.11</td>\n",
       "      <td>-0.04</td>\n",
       "      <td>0.05</td>\n",
       "      <td>0.67</td>\n",
       "    </tr>\n",
       "    <tr>\n",
       "      <th>1</th>\n",
       "      <td>1881</td>\n",
       "      <td>-0.09</td>\n",
       "      <td>-0.18</td>\n",
       "      <td>0.00</td>\n",
       "      <td>-0.36</td>\n",
       "      <td>0.10</td>\n",
       "      <td>-0.07</td>\n",
       "      <td>-0.93</td>\n",
       "      <td>-0.50</td>\n",
       "      <td>-0.19</td>\n",
       "      <td>0.11</td>\n",
       "      <td>0.10</td>\n",
       "      <td>-0.06</td>\n",
       "      <td>-0.07</td>\n",
       "      <td>0.60</td>\n",
       "    </tr>\n",
       "    <tr>\n",
       "      <th>2</th>\n",
       "      <td>1882</td>\n",
       "      <td>-0.11</td>\n",
       "      <td>-0.21</td>\n",
       "      <td>-0.01</td>\n",
       "      <td>-0.31</td>\n",
       "      <td>-0.04</td>\n",
       "      <td>0.01</td>\n",
       "      <td>-1.41</td>\n",
       "      <td>-0.31</td>\n",
       "      <td>-0.13</td>\n",
       "      <td>-0.04</td>\n",
       "      <td>-0.05</td>\n",
       "      <td>0.01</td>\n",
       "      <td>0.04</td>\n",
       "      <td>0.63</td>\n",
       "    </tr>\n",
       "    <tr>\n",
       "      <th>3</th>\n",
       "      <td>1883</td>\n",
       "      <td>-0.17</td>\n",
       "      <td>-0.28</td>\n",
       "      <td>-0.07</td>\n",
       "      <td>-0.34</td>\n",
       "      <td>-0.17</td>\n",
       "      <td>-0.01</td>\n",
       "      <td>-0.18</td>\n",
       "      <td>-0.58</td>\n",
       "      <td>-0.24</td>\n",
       "      <td>-0.17</td>\n",
       "      <td>-0.16</td>\n",
       "      <td>-0.04</td>\n",
       "      <td>0.07</td>\n",
       "      <td>0.50</td>\n",
       "    </tr>\n",
       "    <tr>\n",
       "      <th>4</th>\n",
       "      <td>1884</td>\n",
       "      <td>-0.28</td>\n",
       "      <td>-0.42</td>\n",
       "      <td>-0.15</td>\n",
       "      <td>-0.61</td>\n",
       "      <td>-0.14</td>\n",
       "      <td>-0.14</td>\n",
       "      <td>-1.30</td>\n",
       "      <td>-0.66</td>\n",
       "      <td>-0.45</td>\n",
       "      <td>-0.12</td>\n",
       "      <td>-0.17</td>\n",
       "      <td>-0.19</td>\n",
       "      <td>-0.02</td>\n",
       "      <td>0.65</td>\n",
       "    </tr>\n",
       "  </tbody>\n",
       "</table>\n",
       "</div>"
      ],
      "text/plain": [
       "   Year  Glob  NHem  SHem  24N-90N  24S-24N  90S-24S  64N-90N  44N-64N  \\\n",
       "0  1880 -0.17 -0.28 -0.05    -0.38    -0.13    -0.02    -0.80    -0.52   \n",
       "1  1881 -0.09 -0.18  0.00    -0.36     0.10    -0.07    -0.93    -0.50   \n",
       "2  1882 -0.11 -0.21 -0.01    -0.31    -0.04     0.01    -1.41    -0.31   \n",
       "3  1883 -0.17 -0.28 -0.07    -0.34    -0.17    -0.01    -0.18    -0.58   \n",
       "4  1884 -0.28 -0.42 -0.15    -0.61    -0.14    -0.14    -1.30    -0.66   \n",
       "\n",
       "   24N-44N  EQU-24N  24S-EQU  44S-24S  64S-44S  90S-64S  \n",
       "0    -0.26    -0.14    -0.11    -0.04     0.05     0.67  \n",
       "1    -0.19     0.11     0.10    -0.06    -0.07     0.60  \n",
       "2    -0.13    -0.04    -0.05     0.01     0.04     0.63  \n",
       "3    -0.24    -0.17    -0.16    -0.04     0.07     0.50  \n",
       "4    -0.45    -0.12    -0.17    -0.19    -0.02     0.65  "
      ]
     },
     "execution_count": 72,
     "metadata": {},
     "output_type": "execute_result"
    }
   ],
   "source": [
    "# Display the first five rows\n",
    "df_temp_hemisphere.head(5)"
   ]
  },
  {
   "cell_type": "code",
   "execution_count": 73,
   "metadata": {},
   "outputs": [
    {
     "data": {
      "text/html": [
       "<div>\n",
       "<style scoped>\n",
       "    .dataframe tbody tr th:only-of-type {\n",
       "        vertical-align: middle;\n",
       "    }\n",
       "\n",
       "    .dataframe tbody tr th {\n",
       "        vertical-align: top;\n",
       "    }\n",
       "\n",
       "    .dataframe thead th {\n",
       "        text-align: right;\n",
       "    }\n",
       "</style>\n",
       "<table border=\"1\" class=\"dataframe\">\n",
       "  <thead>\n",
       "    <tr style=\"text-align: right;\">\n",
       "      <th></th>\n",
       "      <th>Year</th>\n",
       "      <th>Glob</th>\n",
       "      <th>NHem</th>\n",
       "      <th>SHem</th>\n",
       "      <th>24N-90N</th>\n",
       "      <th>24S-24N</th>\n",
       "      <th>90S-24S</th>\n",
       "      <th>64N-90N</th>\n",
       "      <th>44N-64N</th>\n",
       "      <th>24N-44N</th>\n",
       "      <th>EQU-24N</th>\n",
       "      <th>24S-EQU</th>\n",
       "      <th>44S-24S</th>\n",
       "      <th>64S-44S</th>\n",
       "      <th>90S-64S</th>\n",
       "    </tr>\n",
       "  </thead>\n",
       "  <tbody>\n",
       "    <tr>\n",
       "      <th>139</th>\n",
       "      <td>2019</td>\n",
       "      <td>0.98</td>\n",
       "      <td>1.20</td>\n",
       "      <td>0.75</td>\n",
       "      <td>1.42</td>\n",
       "      <td>0.90</td>\n",
       "      <td>0.64</td>\n",
       "      <td>2.71</td>\n",
       "      <td>1.43</td>\n",
       "      <td>0.99</td>\n",
       "      <td>0.90</td>\n",
       "      <td>0.90</td>\n",
       "      <td>0.75</td>\n",
       "      <td>0.39</td>\n",
       "      <td>0.83</td>\n",
       "    </tr>\n",
       "    <tr>\n",
       "      <th>140</th>\n",
       "      <td>2020</td>\n",
       "      <td>1.01</td>\n",
       "      <td>1.35</td>\n",
       "      <td>0.68</td>\n",
       "      <td>1.67</td>\n",
       "      <td>0.86</td>\n",
       "      <td>0.57</td>\n",
       "      <td>2.88</td>\n",
       "      <td>1.81</td>\n",
       "      <td>1.19</td>\n",
       "      <td>0.88</td>\n",
       "      <td>0.84</td>\n",
       "      <td>0.58</td>\n",
       "      <td>0.39</td>\n",
       "      <td>0.89</td>\n",
       "    </tr>\n",
       "    <tr>\n",
       "      <th>141</th>\n",
       "      <td>2021</td>\n",
       "      <td>0.85</td>\n",
       "      <td>1.14</td>\n",
       "      <td>0.56</td>\n",
       "      <td>1.42</td>\n",
       "      <td>0.66</td>\n",
       "      <td>0.53</td>\n",
       "      <td>2.05</td>\n",
       "      <td>1.35</td>\n",
       "      <td>1.26</td>\n",
       "      <td>0.72</td>\n",
       "      <td>0.60</td>\n",
       "      <td>0.72</td>\n",
       "      <td>0.32</td>\n",
       "      <td>0.30</td>\n",
       "    </tr>\n",
       "    <tr>\n",
       "      <th>142</th>\n",
       "      <td>2022</td>\n",
       "      <td>0.89</td>\n",
       "      <td>1.16</td>\n",
       "      <td>0.62</td>\n",
       "      <td>1.52</td>\n",
       "      <td>0.57</td>\n",
       "      <td>0.70</td>\n",
       "      <td>2.34</td>\n",
       "      <td>1.50</td>\n",
       "      <td>1.27</td>\n",
       "      <td>0.62</td>\n",
       "      <td>0.51</td>\n",
       "      <td>0.79</td>\n",
       "      <td>0.38</td>\n",
       "      <td>1.09</td>\n",
       "    </tr>\n",
       "    <tr>\n",
       "      <th>143</th>\n",
       "      <td>2023</td>\n",
       "      <td>1.17</td>\n",
       "      <td>1.49</td>\n",
       "      <td>0.85</td>\n",
       "      <td>1.78</td>\n",
       "      <td>1.05</td>\n",
       "      <td>0.72</td>\n",
       "      <td>2.58</td>\n",
       "      <td>1.87</td>\n",
       "      <td>1.47</td>\n",
       "      <td>1.07</td>\n",
       "      <td>1.04</td>\n",
       "      <td>0.91</td>\n",
       "      <td>0.44</td>\n",
       "      <td>0.63</td>\n",
       "    </tr>\n",
       "  </tbody>\n",
       "</table>\n",
       "</div>"
      ],
      "text/plain": [
       "     Year  Glob  NHem  SHem  24N-90N  24S-24N  90S-24S  64N-90N  44N-64N  \\\n",
       "139  2019  0.98  1.20  0.75     1.42     0.90     0.64     2.71     1.43   \n",
       "140  2020  1.01  1.35  0.68     1.67     0.86     0.57     2.88     1.81   \n",
       "141  2021  0.85  1.14  0.56     1.42     0.66     0.53     2.05     1.35   \n",
       "142  2022  0.89  1.16  0.62     1.52     0.57     0.70     2.34     1.50   \n",
       "143  2023  1.17  1.49  0.85     1.78     1.05     0.72     2.58     1.87   \n",
       "\n",
       "     24N-44N  EQU-24N  24S-EQU  44S-24S  64S-44S  90S-64S  \n",
       "139     0.99     0.90     0.90     0.75     0.39     0.83  \n",
       "140     1.19     0.88     0.84     0.58     0.39     0.89  \n",
       "141     1.26     0.72     0.60     0.72     0.32     0.30  \n",
       "142     1.27     0.62     0.51     0.79     0.38     1.09  \n",
       "143     1.47     1.07     1.04     0.91     0.44     0.63  "
      ]
     },
     "execution_count": 73,
     "metadata": {},
     "output_type": "execute_result"
    }
   ],
   "source": [
    "# Display the last five rows\n",
    "df_temp_hemisphere.tail(5)"
   ]
  },
  {
   "cell_type": "code",
   "execution_count": 74,
   "metadata": {},
   "outputs": [
    {
     "data": {
      "text/plain": [
       "Index(['Year', 'Glob', 'NHem', 'SHem', '24N-90N', '24S-24N', '90S-24S',\n",
       "       '64N-90N', '44N-64N', '24N-44N', 'EQU-24N', '24S-EQU', '44S-24S',\n",
       "       '64S-44S', '90S-64S'],\n",
       "      dtype='object')"
      ]
     },
     "execution_count": 74,
     "metadata": {},
     "output_type": "execute_result"
    }
   ],
   "source": [
    "# Display the columns\n",
    "df_temp_hemisphere.columns"
   ]
  },
  {
   "cell_type": "markdown",
   "metadata": {},
   "source": [
    "## Temperature Change for Three Latitude Bands"
   ]
  },
  {
   "cell_type": "code",
   "execution_count": 75,
   "metadata": {},
   "outputs": [
    {
     "data": {
      "text/plain": [
       "(144, 15)"
      ]
     },
     "execution_count": 75,
     "metadata": {},
     "output_type": "execute_result"
    }
   ],
   "source": [
    "# Read the CSV file into a pandas DataFrame\n",
    "df_temp_three_latitude_bands = pd.read_csv(parent_directory+\"\\\\data/historical_temperature/Temperature Change for Three Latitude Bands/temp_three_latitude_bands.csv\")\n",
    "# Display the shape of the DataFrame (number of rows and columns)\n",
    "df_temp_three_latitude_bands.shape\n"
   ]
  },
  {
   "cell_type": "code",
   "execution_count": 76,
   "metadata": {},
   "outputs": [
    {
     "data": {
      "text/html": [
       "<div>\n",
       "<style scoped>\n",
       "    .dataframe tbody tr th:only-of-type {\n",
       "        vertical-align: middle;\n",
       "    }\n",
       "\n",
       "    .dataframe tbody tr th {\n",
       "        vertical-align: top;\n",
       "    }\n",
       "\n",
       "    .dataframe thead th {\n",
       "        text-align: right;\n",
       "    }\n",
       "</style>\n",
       "<table border=\"1\" class=\"dataframe\">\n",
       "  <thead>\n",
       "    <tr style=\"text-align: right;\">\n",
       "      <th></th>\n",
       "      <th>Year</th>\n",
       "      <th>Glob</th>\n",
       "      <th>NHem</th>\n",
       "      <th>SHem</th>\n",
       "      <th>24N-90N</th>\n",
       "      <th>24S-24N</th>\n",
       "      <th>90S-24S</th>\n",
       "      <th>64N-90N</th>\n",
       "      <th>44N-64N</th>\n",
       "      <th>24N-44N</th>\n",
       "      <th>EQU-24N</th>\n",
       "      <th>24S-EQU</th>\n",
       "      <th>44S-24S</th>\n",
       "      <th>64S-44S</th>\n",
       "      <th>90S-64S</th>\n",
       "    </tr>\n",
       "  </thead>\n",
       "  <tbody>\n",
       "    <tr>\n",
       "      <th>0</th>\n",
       "      <td>1880</td>\n",
       "      <td>-0.17</td>\n",
       "      <td>-0.28</td>\n",
       "      <td>-0.05</td>\n",
       "      <td>-0.38</td>\n",
       "      <td>-0.13</td>\n",
       "      <td>-0.02</td>\n",
       "      <td>-0.80</td>\n",
       "      <td>-0.52</td>\n",
       "      <td>-0.26</td>\n",
       "      <td>-0.14</td>\n",
       "      <td>-0.11</td>\n",
       "      <td>-0.04</td>\n",
       "      <td>0.05</td>\n",
       "      <td>0.67</td>\n",
       "    </tr>\n",
       "    <tr>\n",
       "      <th>1</th>\n",
       "      <td>1881</td>\n",
       "      <td>-0.09</td>\n",
       "      <td>-0.18</td>\n",
       "      <td>0.00</td>\n",
       "      <td>-0.36</td>\n",
       "      <td>0.10</td>\n",
       "      <td>-0.07</td>\n",
       "      <td>-0.93</td>\n",
       "      <td>-0.50</td>\n",
       "      <td>-0.19</td>\n",
       "      <td>0.11</td>\n",
       "      <td>0.10</td>\n",
       "      <td>-0.06</td>\n",
       "      <td>-0.07</td>\n",
       "      <td>0.60</td>\n",
       "    </tr>\n",
       "    <tr>\n",
       "      <th>2</th>\n",
       "      <td>1882</td>\n",
       "      <td>-0.11</td>\n",
       "      <td>-0.21</td>\n",
       "      <td>-0.01</td>\n",
       "      <td>-0.31</td>\n",
       "      <td>-0.04</td>\n",
       "      <td>0.01</td>\n",
       "      <td>-1.41</td>\n",
       "      <td>-0.31</td>\n",
       "      <td>-0.13</td>\n",
       "      <td>-0.04</td>\n",
       "      <td>-0.05</td>\n",
       "      <td>0.01</td>\n",
       "      <td>0.04</td>\n",
       "      <td>0.63</td>\n",
       "    </tr>\n",
       "    <tr>\n",
       "      <th>3</th>\n",
       "      <td>1883</td>\n",
       "      <td>-0.17</td>\n",
       "      <td>-0.28</td>\n",
       "      <td>-0.07</td>\n",
       "      <td>-0.34</td>\n",
       "      <td>-0.17</td>\n",
       "      <td>-0.01</td>\n",
       "      <td>-0.18</td>\n",
       "      <td>-0.58</td>\n",
       "      <td>-0.24</td>\n",
       "      <td>-0.17</td>\n",
       "      <td>-0.16</td>\n",
       "      <td>-0.04</td>\n",
       "      <td>0.07</td>\n",
       "      <td>0.50</td>\n",
       "    </tr>\n",
       "    <tr>\n",
       "      <th>4</th>\n",
       "      <td>1884</td>\n",
       "      <td>-0.28</td>\n",
       "      <td>-0.42</td>\n",
       "      <td>-0.15</td>\n",
       "      <td>-0.61</td>\n",
       "      <td>-0.14</td>\n",
       "      <td>-0.14</td>\n",
       "      <td>-1.30</td>\n",
       "      <td>-0.66</td>\n",
       "      <td>-0.45</td>\n",
       "      <td>-0.12</td>\n",
       "      <td>-0.17</td>\n",
       "      <td>-0.19</td>\n",
       "      <td>-0.02</td>\n",
       "      <td>0.65</td>\n",
       "    </tr>\n",
       "  </tbody>\n",
       "</table>\n",
       "</div>"
      ],
      "text/plain": [
       "   Year  Glob  NHem  SHem  24N-90N  24S-24N  90S-24S  64N-90N  44N-64N  \\\n",
       "0  1880 -0.17 -0.28 -0.05    -0.38    -0.13    -0.02    -0.80    -0.52   \n",
       "1  1881 -0.09 -0.18  0.00    -0.36     0.10    -0.07    -0.93    -0.50   \n",
       "2  1882 -0.11 -0.21 -0.01    -0.31    -0.04     0.01    -1.41    -0.31   \n",
       "3  1883 -0.17 -0.28 -0.07    -0.34    -0.17    -0.01    -0.18    -0.58   \n",
       "4  1884 -0.28 -0.42 -0.15    -0.61    -0.14    -0.14    -1.30    -0.66   \n",
       "\n",
       "   24N-44N  EQU-24N  24S-EQU  44S-24S  64S-44S  90S-64S  \n",
       "0    -0.26    -0.14    -0.11    -0.04     0.05     0.67  \n",
       "1    -0.19     0.11     0.10    -0.06    -0.07     0.60  \n",
       "2    -0.13    -0.04    -0.05     0.01     0.04     0.63  \n",
       "3    -0.24    -0.17    -0.16    -0.04     0.07     0.50  \n",
       "4    -0.45    -0.12    -0.17    -0.19    -0.02     0.65  "
      ]
     },
     "execution_count": 76,
     "metadata": {},
     "output_type": "execute_result"
    }
   ],
   "source": [
    "# Display the first five rows\n",
    "df_temp_three_latitude_bands.head(5)"
   ]
  },
  {
   "cell_type": "code",
   "execution_count": 77,
   "metadata": {},
   "outputs": [
    {
     "data": {
      "text/html": [
       "<div>\n",
       "<style scoped>\n",
       "    .dataframe tbody tr th:only-of-type {\n",
       "        vertical-align: middle;\n",
       "    }\n",
       "\n",
       "    .dataframe tbody tr th {\n",
       "        vertical-align: top;\n",
       "    }\n",
       "\n",
       "    .dataframe thead th {\n",
       "        text-align: right;\n",
       "    }\n",
       "</style>\n",
       "<table border=\"1\" class=\"dataframe\">\n",
       "  <thead>\n",
       "    <tr style=\"text-align: right;\">\n",
       "      <th></th>\n",
       "      <th>Year</th>\n",
       "      <th>Glob</th>\n",
       "      <th>NHem</th>\n",
       "      <th>SHem</th>\n",
       "      <th>24N-90N</th>\n",
       "      <th>24S-24N</th>\n",
       "      <th>90S-24S</th>\n",
       "      <th>64N-90N</th>\n",
       "      <th>44N-64N</th>\n",
       "      <th>24N-44N</th>\n",
       "      <th>EQU-24N</th>\n",
       "      <th>24S-EQU</th>\n",
       "      <th>44S-24S</th>\n",
       "      <th>64S-44S</th>\n",
       "      <th>90S-64S</th>\n",
       "    </tr>\n",
       "  </thead>\n",
       "  <tbody>\n",
       "    <tr>\n",
       "      <th>139</th>\n",
       "      <td>2019</td>\n",
       "      <td>0.98</td>\n",
       "      <td>1.20</td>\n",
       "      <td>0.75</td>\n",
       "      <td>1.42</td>\n",
       "      <td>0.90</td>\n",
       "      <td>0.64</td>\n",
       "      <td>2.71</td>\n",
       "      <td>1.43</td>\n",
       "      <td>0.99</td>\n",
       "      <td>0.90</td>\n",
       "      <td>0.90</td>\n",
       "      <td>0.75</td>\n",
       "      <td>0.39</td>\n",
       "      <td>0.83</td>\n",
       "    </tr>\n",
       "    <tr>\n",
       "      <th>140</th>\n",
       "      <td>2020</td>\n",
       "      <td>1.01</td>\n",
       "      <td>1.35</td>\n",
       "      <td>0.68</td>\n",
       "      <td>1.67</td>\n",
       "      <td>0.86</td>\n",
       "      <td>0.57</td>\n",
       "      <td>2.88</td>\n",
       "      <td>1.81</td>\n",
       "      <td>1.19</td>\n",
       "      <td>0.88</td>\n",
       "      <td>0.84</td>\n",
       "      <td>0.58</td>\n",
       "      <td>0.39</td>\n",
       "      <td>0.89</td>\n",
       "    </tr>\n",
       "    <tr>\n",
       "      <th>141</th>\n",
       "      <td>2021</td>\n",
       "      <td>0.85</td>\n",
       "      <td>1.14</td>\n",
       "      <td>0.56</td>\n",
       "      <td>1.42</td>\n",
       "      <td>0.66</td>\n",
       "      <td>0.53</td>\n",
       "      <td>2.05</td>\n",
       "      <td>1.35</td>\n",
       "      <td>1.26</td>\n",
       "      <td>0.72</td>\n",
       "      <td>0.60</td>\n",
       "      <td>0.72</td>\n",
       "      <td>0.32</td>\n",
       "      <td>0.30</td>\n",
       "    </tr>\n",
       "    <tr>\n",
       "      <th>142</th>\n",
       "      <td>2022</td>\n",
       "      <td>0.89</td>\n",
       "      <td>1.16</td>\n",
       "      <td>0.62</td>\n",
       "      <td>1.52</td>\n",
       "      <td>0.57</td>\n",
       "      <td>0.70</td>\n",
       "      <td>2.34</td>\n",
       "      <td>1.50</td>\n",
       "      <td>1.27</td>\n",
       "      <td>0.62</td>\n",
       "      <td>0.51</td>\n",
       "      <td>0.79</td>\n",
       "      <td>0.38</td>\n",
       "      <td>1.09</td>\n",
       "    </tr>\n",
       "    <tr>\n",
       "      <th>143</th>\n",
       "      <td>2023</td>\n",
       "      <td>1.17</td>\n",
       "      <td>1.49</td>\n",
       "      <td>0.85</td>\n",
       "      <td>1.78</td>\n",
       "      <td>1.05</td>\n",
       "      <td>0.72</td>\n",
       "      <td>2.58</td>\n",
       "      <td>1.87</td>\n",
       "      <td>1.47</td>\n",
       "      <td>1.07</td>\n",
       "      <td>1.04</td>\n",
       "      <td>0.91</td>\n",
       "      <td>0.44</td>\n",
       "      <td>0.63</td>\n",
       "    </tr>\n",
       "  </tbody>\n",
       "</table>\n",
       "</div>"
      ],
      "text/plain": [
       "     Year  Glob  NHem  SHem  24N-90N  24S-24N  90S-24S  64N-90N  44N-64N  \\\n",
       "139  2019  0.98  1.20  0.75     1.42     0.90     0.64     2.71     1.43   \n",
       "140  2020  1.01  1.35  0.68     1.67     0.86     0.57     2.88     1.81   \n",
       "141  2021  0.85  1.14  0.56     1.42     0.66     0.53     2.05     1.35   \n",
       "142  2022  0.89  1.16  0.62     1.52     0.57     0.70     2.34     1.50   \n",
       "143  2023  1.17  1.49  0.85     1.78     1.05     0.72     2.58     1.87   \n",
       "\n",
       "     24N-44N  EQU-24N  24S-EQU  44S-24S  64S-44S  90S-64S  \n",
       "139     0.99     0.90     0.90     0.75     0.39     0.83  \n",
       "140     1.19     0.88     0.84     0.58     0.39     0.89  \n",
       "141     1.26     0.72     0.60     0.72     0.32     0.30  \n",
       "142     1.27     0.62     0.51     0.79     0.38     1.09  \n",
       "143     1.47     1.07     1.04     0.91     0.44     0.63  "
      ]
     },
     "execution_count": 77,
     "metadata": {},
     "output_type": "execute_result"
    }
   ],
   "source": [
    "# Display the last five rows\n",
    "df_temp_three_latitude_bands.tail(5)"
   ]
  },
  {
   "cell_type": "code",
   "execution_count": 78,
   "metadata": {},
   "outputs": [
    {
     "data": {
      "text/plain": [
       "Index(['Year', 'Glob', 'NHem', 'SHem', '24N-90N', '24S-24N', '90S-24S',\n",
       "       '64N-90N', '44N-64N', '24N-44N', 'EQU-24N', '24S-EQU', '44S-24S',\n",
       "       '64S-44S', '90S-64S'],\n",
       "      dtype='object')"
      ]
     },
     "execution_count": 78,
     "metadata": {},
     "output_type": "execute_result"
    }
   ],
   "source": [
    "df_temp_three_latitude_bands.columns"
   ]
  },
  {
   "cell_type": "code",
   "execution_count": 79,
   "metadata": {},
   "outputs": [
    {
     "data": {
      "text/plain": [
       "Index(['Year', 'Glob', 'NHem', 'SHem', '24N-90N', '24S-24N', '90S-24S',\n",
       "       '64N-90N', '44N-64N', '24N-44N', 'EQU-24N', '24S-EQU', '44S-24S',\n",
       "       '64S-44S', '90S-64S'],\n",
       "      dtype='object')"
      ]
     },
     "execution_count": 79,
     "metadata": {},
     "output_type": "execute_result"
    }
   ],
   "source": [
    "df_temp_hemisphere.columns"
   ]
  },
  {
   "cell_type": "markdown",
   "metadata": {},
   "source": [
    "#### Create a merged dataframe with df_temp_hemisphere and df_temp_three_latitude_bands on the column year"
   ]
  },
  {
   "cell_type": "code",
   "execution_count": 80,
   "metadata": {},
   "outputs": [],
   "source": [
    "\n",
    "\n",
    "\n",
    "merged_temp_hemisphere_latitude_df = pd.merge(df_temp_hemisphere, df_temp_three_latitude_bands, on='Year')\n"
   ]
  },
  {
   "cell_type": "markdown",
   "metadata": {},
   "source": [
    "Filtering the rows for the years from  1991 to 2021 as the other module of the project is analyzing the data for the years 1991 and 2021"
   ]
  },
  {
   "cell_type": "code",
   "execution_count": 81,
   "metadata": {},
   "outputs": [],
   "source": [
    "\n",
    "\n",
    "# Filter rows for the years from 1991 to 2021\n",
    "merged_temp_hemisphere_latitude_df = merged_temp_hemisphere_latitude_df[(merged_temp_hemisphere_latitude_df['Year'] >= 1991) & (merged_temp_hemisphere_latitude_df['Year'] <= 2021)]\n"
   ]
  },
  {
   "cell_type": "code",
   "execution_count": 82,
   "metadata": {},
   "outputs": [],
   "source": [
    "# Renaming the columns \n",
    "# Define a function to rename columns\n",
    "def rename_columns(column_name):\n",
    "    if column_name == 'Year':\n",
    "        return column_name\n",
    "    elif column_name.endswith('_x'):\n",
    "        return column_name[:-2] + '_h'\n",
    "    elif column_name.endswith('_y'):\n",
    "        return column_name[:-2] + '_l'\n",
    "    else:\n",
    "        return column_name\n",
    "\n",
    "# Replace column names with suffix '_x' with '_h' and suffix '_y' with '_l'\n",
    "merged_temp_hemisphere_latitude_df = merged_temp_hemisphere_latitude_df.rename(columns=rename_columns)\n",
    "\n"
   ]
  },
  {
   "cell_type": "markdown",
   "metadata": {},
   "source": [
    "<!-- Locally Weighted Scatterplot Smoothing (LOWESS) is a non-parametric regression method used to create a smooth curve through a set of data points, without assuming any specific functional form for the relationship between the variables.\n",
    "\n",
    "In the context of the Northern Extratropics, LOWESS smoothing involves fitting a smooth curve to the annual mean temperature data points for that region. The curve is fit by iteratively re-weighted least squares, where each data point is given a weight based on its distance from the point where the smoothing is being evaluated.\n",
    "\n",
    "So, when we talk about LOWESS smoothing for the Northern Extratropics, we are essentially fitting a smooth curve to the annual mean temperature data for that region, capturing the overall trend while reducing noise and variability. This smoothed curve can help visualize the underlying pattern in the temperature data over time. -->"
   ]
  },
  {
   "cell_type": "markdown",
   "metadata": {},
   "source": [
    "#### Calculating the data for visualization for temperature change across Northern Hemisphere and Southern Hemisphere"
   ]
  },
  {
   "cell_type": "code",
   "execution_count": 83,
   "metadata": {},
   "outputs": [],
   "source": [
    "\n",
    "\n",
    "\n",
    "# Calculate NH Annual Mean\n",
    "NH_annual_mean = merged_temp_hemisphere_latitude_df[['Year', 'NHem_h']].groupby('Year').mean()\n",
    "\n",
    "# Calculate SH Annual Mean\n",
    "SH_annual_mean = merged_temp_hemisphere_latitude_df[['Year', 'SHem_h']].groupby('Year').mean()\n",
    "\n",
    "# Apply Lowess smoothing to NH Annual Mean\n",
    "nh_smoothed = sm.nonparametric.lowess(NH_annual_mean['NHem_h'], NH_annual_mean.index, frac=0.1)\n",
    "\n",
    "# Apply Lowess smoothing to SH Annual Mean\n",
    "sh_smoothed = sm.nonparametric.lowess(SH_annual_mean['SHem_h'], SH_annual_mean.index, frac=0.1)\n",
    "\n"
   ]
  },
  {
   "cell_type": "markdown",
   "metadata": {},
   "source": [
    "#### Create  a line plot showing NH and SH Annual Mean temperatures along with their Lowess smoothing across Northern Hemisphere and Southern Hemisphere (The raw data points are also shown for reference)"
   ]
  },
  {
   "cell_type": "code",
   "execution_count": 84,
   "metadata": {},
   "outputs": [
    {
     "data": {
      "application/vnd.plotly.v1+json": {
       "config": {
        "plotlyServerURL": "https://plot.ly"
       },
       "data": [
        {
         "mode": "lines",
         "name": "NH Annual Mean (Smoothed)",
         "type": "scatter",
         "x": [
          1991,
          1992,
          1993,
          1994,
          1995,
          1996,
          1997,
          1998,
          1999,
          2000,
          2001,
          2002,
          2003,
          2004,
          2005,
          2006,
          2007,
          2008,
          2009,
          2010,
          2011,
          2012,
          2013,
          2014,
          2015,
          2016,
          2017,
          2018,
          2019,
          2020,
          2021
         ],
         "y": [
          0.41,
          0.14,
          0.19,
          0.37,
          0.58,
          0.26,
          0.52,
          0.71,
          0.48,
          0.5,
          0.64,
          0.71,
          0.75,
          0.66,
          0.86,
          0.82,
          0.85,
          0.68,
          0.72,
          0.9,
          0.74,
          0.81,
          0.8,
          0.92,
          1.17,
          1.31,
          1.17,
          1.03,
          1.2,
          1.35,
          1.14
         ]
        },
        {
         "mode": "lines",
         "name": "SH Annual Mean (Smoothed)",
         "type": "scatter",
         "x": [
          1991,
          1992,
          1993,
          1994,
          1995,
          1996,
          1997,
          1998,
          1999,
          2000,
          2001,
          2002,
          2003,
          2004,
          2005,
          2006,
          2007,
          2008,
          2009,
          2010,
          2011,
          2012,
          2013,
          2014,
          2015,
          2016,
          2017,
          2018,
          2019,
          2020,
          2021
         ],
         "y": [
          0.4,
          0.31,
          0.28,
          0.26,
          0.32,
          0.4,
          0.41,
          0.51,
          0.28,
          0.29,
          0.43,
          0.54,
          0.49,
          0.41,
          0.5,
          0.46,
          0.47,
          0.4,
          0.59,
          0.55,
          0.47,
          0.49,
          0.55,
          0.57,
          0.63,
          0.73,
          0.67,
          0.66,
          0.75,
          0.68,
          0.56
         ]
        },
        {
         "marker": {
          "color": "blue"
         },
         "mode": "markers",
         "name": "NH Annual Mean (Raw)",
         "type": "scatter",
         "x": [
          1991,
          1992,
          1993,
          1994,
          1995,
          1996,
          1997,
          1998,
          1999,
          2000,
          2001,
          2002,
          2003,
          2004,
          2005,
          2006,
          2007,
          2008,
          2009,
          2010,
          2011,
          2012,
          2013,
          2014,
          2015,
          2016,
          2017,
          2018,
          2019,
          2020,
          2021
         ],
         "y": [
          0.41,
          0.14,
          0.19,
          0.37,
          0.58,
          0.26,
          0.52,
          0.71,
          0.48,
          0.5,
          0.64,
          0.71,
          0.75,
          0.66,
          0.86,
          0.82,
          0.85,
          0.68,
          0.72,
          0.9,
          0.74,
          0.81,
          0.8,
          0.92,
          1.17,
          1.31,
          1.17,
          1.03,
          1.2,
          1.35,
          1.14
         ]
        },
        {
         "marker": {
          "color": "red"
         },
         "mode": "markers",
         "name": "SH Annual Mean (Raw)",
         "type": "scatter",
         "x": [
          1991,
          1992,
          1993,
          1994,
          1995,
          1996,
          1997,
          1998,
          1999,
          2000,
          2001,
          2002,
          2003,
          2004,
          2005,
          2006,
          2007,
          2008,
          2009,
          2010,
          2011,
          2012,
          2013,
          2014,
          2015,
          2016,
          2017,
          2018,
          2019,
          2020,
          2021
         ],
         "y": [
          0.4,
          0.31,
          0.28,
          0.26,
          0.32,
          0.4,
          0.41,
          0.51,
          0.28,
          0.29,
          0.43,
          0.54,
          0.49,
          0.41,
          0.5,
          0.46,
          0.47,
          0.4,
          0.59,
          0.55,
          0.47,
          0.49,
          0.55,
          0.57,
          0.63,
          0.73,
          0.67,
          0.66,
          0.75,
          0.68,
          0.56
         ]
        }
       ],
       "layout": {
        "template": {
         "data": {
          "bar": [
           {
            "error_x": {
             "color": "#2a3f5f"
            },
            "error_y": {
             "color": "#2a3f5f"
            },
            "marker": {
             "line": {
              "color": "#E5ECF6",
              "width": 0.5
             },
             "pattern": {
              "fillmode": "overlay",
              "size": 10,
              "solidity": 0.2
             }
            },
            "type": "bar"
           }
          ],
          "barpolar": [
           {
            "marker": {
             "line": {
              "color": "#E5ECF6",
              "width": 0.5
             },
             "pattern": {
              "fillmode": "overlay",
              "size": 10,
              "solidity": 0.2
             }
            },
            "type": "barpolar"
           }
          ],
          "carpet": [
           {
            "aaxis": {
             "endlinecolor": "#2a3f5f",
             "gridcolor": "white",
             "linecolor": "white",
             "minorgridcolor": "white",
             "startlinecolor": "#2a3f5f"
            },
            "baxis": {
             "endlinecolor": "#2a3f5f",
             "gridcolor": "white",
             "linecolor": "white",
             "minorgridcolor": "white",
             "startlinecolor": "#2a3f5f"
            },
            "type": "carpet"
           }
          ],
          "choropleth": [
           {
            "colorbar": {
             "outlinewidth": 0,
             "ticks": ""
            },
            "type": "choropleth"
           }
          ],
          "contour": [
           {
            "colorbar": {
             "outlinewidth": 0,
             "ticks": ""
            },
            "colorscale": [
             [
              0,
              "#0d0887"
             ],
             [
              0.1111111111111111,
              "#46039f"
             ],
             [
              0.2222222222222222,
              "#7201a8"
             ],
             [
              0.3333333333333333,
              "#9c179e"
             ],
             [
              0.4444444444444444,
              "#bd3786"
             ],
             [
              0.5555555555555556,
              "#d8576b"
             ],
             [
              0.6666666666666666,
              "#ed7953"
             ],
             [
              0.7777777777777778,
              "#fb9f3a"
             ],
             [
              0.8888888888888888,
              "#fdca26"
             ],
             [
              1,
              "#f0f921"
             ]
            ],
            "type": "contour"
           }
          ],
          "contourcarpet": [
           {
            "colorbar": {
             "outlinewidth": 0,
             "ticks": ""
            },
            "type": "contourcarpet"
           }
          ],
          "heatmap": [
           {
            "colorbar": {
             "outlinewidth": 0,
             "ticks": ""
            },
            "colorscale": [
             [
              0,
              "#0d0887"
             ],
             [
              0.1111111111111111,
              "#46039f"
             ],
             [
              0.2222222222222222,
              "#7201a8"
             ],
             [
              0.3333333333333333,
              "#9c179e"
             ],
             [
              0.4444444444444444,
              "#bd3786"
             ],
             [
              0.5555555555555556,
              "#d8576b"
             ],
             [
              0.6666666666666666,
              "#ed7953"
             ],
             [
              0.7777777777777778,
              "#fb9f3a"
             ],
             [
              0.8888888888888888,
              "#fdca26"
             ],
             [
              1,
              "#f0f921"
             ]
            ],
            "type": "heatmap"
           }
          ],
          "heatmapgl": [
           {
            "colorbar": {
             "outlinewidth": 0,
             "ticks": ""
            },
            "colorscale": [
             [
              0,
              "#0d0887"
             ],
             [
              0.1111111111111111,
              "#46039f"
             ],
             [
              0.2222222222222222,
              "#7201a8"
             ],
             [
              0.3333333333333333,
              "#9c179e"
             ],
             [
              0.4444444444444444,
              "#bd3786"
             ],
             [
              0.5555555555555556,
              "#d8576b"
             ],
             [
              0.6666666666666666,
              "#ed7953"
             ],
             [
              0.7777777777777778,
              "#fb9f3a"
             ],
             [
              0.8888888888888888,
              "#fdca26"
             ],
             [
              1,
              "#f0f921"
             ]
            ],
            "type": "heatmapgl"
           }
          ],
          "histogram": [
           {
            "marker": {
             "pattern": {
              "fillmode": "overlay",
              "size": 10,
              "solidity": 0.2
             }
            },
            "type": "histogram"
           }
          ],
          "histogram2d": [
           {
            "colorbar": {
             "outlinewidth": 0,
             "ticks": ""
            },
            "colorscale": [
             [
              0,
              "#0d0887"
             ],
             [
              0.1111111111111111,
              "#46039f"
             ],
             [
              0.2222222222222222,
              "#7201a8"
             ],
             [
              0.3333333333333333,
              "#9c179e"
             ],
             [
              0.4444444444444444,
              "#bd3786"
             ],
             [
              0.5555555555555556,
              "#d8576b"
             ],
             [
              0.6666666666666666,
              "#ed7953"
             ],
             [
              0.7777777777777778,
              "#fb9f3a"
             ],
             [
              0.8888888888888888,
              "#fdca26"
             ],
             [
              1,
              "#f0f921"
             ]
            ],
            "type": "histogram2d"
           }
          ],
          "histogram2dcontour": [
           {
            "colorbar": {
             "outlinewidth": 0,
             "ticks": ""
            },
            "colorscale": [
             [
              0,
              "#0d0887"
             ],
             [
              0.1111111111111111,
              "#46039f"
             ],
             [
              0.2222222222222222,
              "#7201a8"
             ],
             [
              0.3333333333333333,
              "#9c179e"
             ],
             [
              0.4444444444444444,
              "#bd3786"
             ],
             [
              0.5555555555555556,
              "#d8576b"
             ],
             [
              0.6666666666666666,
              "#ed7953"
             ],
             [
              0.7777777777777778,
              "#fb9f3a"
             ],
             [
              0.8888888888888888,
              "#fdca26"
             ],
             [
              1,
              "#f0f921"
             ]
            ],
            "type": "histogram2dcontour"
           }
          ],
          "mesh3d": [
           {
            "colorbar": {
             "outlinewidth": 0,
             "ticks": ""
            },
            "type": "mesh3d"
           }
          ],
          "parcoords": [
           {
            "line": {
             "colorbar": {
              "outlinewidth": 0,
              "ticks": ""
             }
            },
            "type": "parcoords"
           }
          ],
          "pie": [
           {
            "automargin": true,
            "type": "pie"
           }
          ],
          "scatter": [
           {
            "fillpattern": {
             "fillmode": "overlay",
             "size": 10,
             "solidity": 0.2
            },
            "type": "scatter"
           }
          ],
          "scatter3d": [
           {
            "line": {
             "colorbar": {
              "outlinewidth": 0,
              "ticks": ""
             }
            },
            "marker": {
             "colorbar": {
              "outlinewidth": 0,
              "ticks": ""
             }
            },
            "type": "scatter3d"
           }
          ],
          "scattercarpet": [
           {
            "marker": {
             "colorbar": {
              "outlinewidth": 0,
              "ticks": ""
             }
            },
            "type": "scattercarpet"
           }
          ],
          "scattergeo": [
           {
            "marker": {
             "colorbar": {
              "outlinewidth": 0,
              "ticks": ""
             }
            },
            "type": "scattergeo"
           }
          ],
          "scattergl": [
           {
            "marker": {
             "colorbar": {
              "outlinewidth": 0,
              "ticks": ""
             }
            },
            "type": "scattergl"
           }
          ],
          "scattermapbox": [
           {
            "marker": {
             "colorbar": {
              "outlinewidth": 0,
              "ticks": ""
             }
            },
            "type": "scattermapbox"
           }
          ],
          "scatterpolar": [
           {
            "marker": {
             "colorbar": {
              "outlinewidth": 0,
              "ticks": ""
             }
            },
            "type": "scatterpolar"
           }
          ],
          "scatterpolargl": [
           {
            "marker": {
             "colorbar": {
              "outlinewidth": 0,
              "ticks": ""
             }
            },
            "type": "scatterpolargl"
           }
          ],
          "scatterternary": [
           {
            "marker": {
             "colorbar": {
              "outlinewidth": 0,
              "ticks": ""
             }
            },
            "type": "scatterternary"
           }
          ],
          "surface": [
           {
            "colorbar": {
             "outlinewidth": 0,
             "ticks": ""
            },
            "colorscale": [
             [
              0,
              "#0d0887"
             ],
             [
              0.1111111111111111,
              "#46039f"
             ],
             [
              0.2222222222222222,
              "#7201a8"
             ],
             [
              0.3333333333333333,
              "#9c179e"
             ],
             [
              0.4444444444444444,
              "#bd3786"
             ],
             [
              0.5555555555555556,
              "#d8576b"
             ],
             [
              0.6666666666666666,
              "#ed7953"
             ],
             [
              0.7777777777777778,
              "#fb9f3a"
             ],
             [
              0.8888888888888888,
              "#fdca26"
             ],
             [
              1,
              "#f0f921"
             ]
            ],
            "type": "surface"
           }
          ],
          "table": [
           {
            "cells": {
             "fill": {
              "color": "#EBF0F8"
             },
             "line": {
              "color": "white"
             }
            },
            "header": {
             "fill": {
              "color": "#C8D4E3"
             },
             "line": {
              "color": "white"
             }
            },
            "type": "table"
           }
          ]
         },
         "layout": {
          "annotationdefaults": {
           "arrowcolor": "#2a3f5f",
           "arrowhead": 0,
           "arrowwidth": 1
          },
          "autotypenumbers": "strict",
          "coloraxis": {
           "colorbar": {
            "outlinewidth": 0,
            "ticks": ""
           }
          },
          "colorscale": {
           "diverging": [
            [
             0,
             "#8e0152"
            ],
            [
             0.1,
             "#c51b7d"
            ],
            [
             0.2,
             "#de77ae"
            ],
            [
             0.3,
             "#f1b6da"
            ],
            [
             0.4,
             "#fde0ef"
            ],
            [
             0.5,
             "#f7f7f7"
            ],
            [
             0.6,
             "#e6f5d0"
            ],
            [
             0.7,
             "#b8e186"
            ],
            [
             0.8,
             "#7fbc41"
            ],
            [
             0.9,
             "#4d9221"
            ],
            [
             1,
             "#276419"
            ]
           ],
           "sequential": [
            [
             0,
             "#0d0887"
            ],
            [
             0.1111111111111111,
             "#46039f"
            ],
            [
             0.2222222222222222,
             "#7201a8"
            ],
            [
             0.3333333333333333,
             "#9c179e"
            ],
            [
             0.4444444444444444,
             "#bd3786"
            ],
            [
             0.5555555555555556,
             "#d8576b"
            ],
            [
             0.6666666666666666,
             "#ed7953"
            ],
            [
             0.7777777777777778,
             "#fb9f3a"
            ],
            [
             0.8888888888888888,
             "#fdca26"
            ],
            [
             1,
             "#f0f921"
            ]
           ],
           "sequentialminus": [
            [
             0,
             "#0d0887"
            ],
            [
             0.1111111111111111,
             "#46039f"
            ],
            [
             0.2222222222222222,
             "#7201a8"
            ],
            [
             0.3333333333333333,
             "#9c179e"
            ],
            [
             0.4444444444444444,
             "#bd3786"
            ],
            [
             0.5555555555555556,
             "#d8576b"
            ],
            [
             0.6666666666666666,
             "#ed7953"
            ],
            [
             0.7777777777777778,
             "#fb9f3a"
            ],
            [
             0.8888888888888888,
             "#fdca26"
            ],
            [
             1,
             "#f0f921"
            ]
           ]
          },
          "colorway": [
           "#636efa",
           "#EF553B",
           "#00cc96",
           "#ab63fa",
           "#FFA15A",
           "#19d3f3",
           "#FF6692",
           "#B6E880",
           "#FF97FF",
           "#FECB52"
          ],
          "font": {
           "color": "#2a3f5f"
          },
          "geo": {
           "bgcolor": "white",
           "lakecolor": "white",
           "landcolor": "#E5ECF6",
           "showlakes": true,
           "showland": true,
           "subunitcolor": "white"
          },
          "hoverlabel": {
           "align": "left"
          },
          "hovermode": "closest",
          "mapbox": {
           "style": "light"
          },
          "paper_bgcolor": "white",
          "plot_bgcolor": "#E5ECF6",
          "polar": {
           "angularaxis": {
            "gridcolor": "white",
            "linecolor": "white",
            "ticks": ""
           },
           "bgcolor": "#E5ECF6",
           "radialaxis": {
            "gridcolor": "white",
            "linecolor": "white",
            "ticks": ""
           }
          },
          "scene": {
           "xaxis": {
            "backgroundcolor": "#E5ECF6",
            "gridcolor": "white",
            "gridwidth": 2,
            "linecolor": "white",
            "showbackground": true,
            "ticks": "",
            "zerolinecolor": "white"
           },
           "yaxis": {
            "backgroundcolor": "#E5ECF6",
            "gridcolor": "white",
            "gridwidth": 2,
            "linecolor": "white",
            "showbackground": true,
            "ticks": "",
            "zerolinecolor": "white"
           },
           "zaxis": {
            "backgroundcolor": "#E5ECF6",
            "gridcolor": "white",
            "gridwidth": 2,
            "linecolor": "white",
            "showbackground": true,
            "ticks": "",
            "zerolinecolor": "white"
           }
          },
          "shapedefaults": {
           "line": {
            "color": "#2a3f5f"
           }
          },
          "ternary": {
           "aaxis": {
            "gridcolor": "white",
            "linecolor": "white",
            "ticks": ""
           },
           "baxis": {
            "gridcolor": "white",
            "linecolor": "white",
            "ticks": ""
           },
           "bgcolor": "#E5ECF6",
           "caxis": {
            "gridcolor": "white",
            "linecolor": "white",
            "ticks": ""
           }
          },
          "title": {
           "x": 0.05
          },
          "xaxis": {
           "automargin": true,
           "gridcolor": "white",
           "linecolor": "white",
           "ticks": "",
           "title": {
            "standoff": 15
           },
           "zerolinecolor": "white",
           "zerolinewidth": 2
          },
          "yaxis": {
           "automargin": true,
           "gridcolor": "white",
           "linecolor": "white",
           "ticks": "",
           "title": {
            "standoff": 15
           },
           "zerolinecolor": "white",
           "zerolinewidth": 2
          }
         }
        },
        "title": {
         "text": "Northern Hemisphere  and Southern Hemisphere Annual Mean Temperature with Lowess Smoothing"
        },
        "xaxis": {
         "title": {
          "text": "Year"
         }
        },
        "yaxis": {
         "title": {
          "text": "Temperature (°C)"
         }
        }
       }
      }
     },
     "metadata": {},
     "output_type": "display_data"
    }
   ],
   "source": [
    "\n",
    "\n",
    "# create traces for NH and SH Annual Mean along with their smoothed versions using go.Scatter\n",
    "# For each trace, specify the x-coordinates as the years (NH_annual_mean.index and SH_annual_mean.index) and y-coordinates as the corresponding temperatures.\n",
    "# Set the mode to 'lines' for the smoothed traces and 'markers' for the raw data.\n",
    "# Each trace is added to the data list in the go.Figure constructor.\n",
    "trace_nh = go.Scatter(x=NH_annual_mean.index, y=nh_smoothed[:, 1], mode='lines', name='NH Annual Mean (Smoothed)')\n",
    "trace_sh = go.Scatter(x=SH_annual_mean.index, y=sh_smoothed[:, 1], mode='lines', name='SH Annual Mean (Smoothed)')\n",
    "trace_nh_raw = go.Scatter(x=NH_annual_mean.index, y=NH_annual_mean['NHem_h'], mode='markers', name='NH Annual Mean (Raw)', marker=dict(color='blue'))\n",
    "trace_sh_raw = go.Scatter(x=SH_annual_mean.index, y=SH_annual_mean['SHem_h'], mode='markers', name='SH Annual Mean (Raw)', marker=dict(color='red'))\n",
    "\n",
    "# Create layout\n",
    "layout = go.Layout(title='Northern Hemisphere  and Southern Hemisphere Annual Mean Temperature with Lowess Smoothing',\n",
    "                   xaxis=dict(title='Year'),\n",
    "                   yaxis=dict(title='Temperature (°C)'))\n",
    "\n",
    "# Create figure\n",
    "fig = go.Figure(data=[trace_nh, trace_sh, trace_nh_raw, trace_sh_raw], layout=layout)\n",
    "\n",
    "# Show plot\n",
    "fig.show()\n"
   ]
  },
  {
   "cell_type": "markdown",
   "metadata": {},
   "source": [
    "#### Calculating  data for visualization of the temperature change across three latitude bands(Northern Extratropics,Tropics,Southern Extratropics)"
   ]
  },
  {
   "cell_type": "code",
   "execution_count": 85,
   "metadata": {},
   "outputs": [],
   "source": [
    "\n",
    "\n",
    "# Calculate Annual Mean for Northern Extratropics (24N-90N), Southern Extratropics (90S-24S), and Tropics (24S-24N)\n",
    "merged_temp_hemisphere_latitude_df['Annual_Mean_Northern_Extratropics'] = merged_temp_hemisphere_latitude_df[['24N-90N_l']].mean(axis=1)\n",
    "merged_temp_hemisphere_latitude_df['Annual_Mean_Southern_Extratropics'] = merged_temp_hemisphere_latitude_df[['90S-24S_l']].mean(axis=1)\n",
    "merged_temp_hemisphere_latitude_df['Annual_Mean_Tropics'] = merged_temp_hemisphere_latitude_df[['24S-24N_l']].mean(axis=1)\n",
    "\n",
    "# Group by Year and calculate mean for each region\n",
    "annual_mean_northern_extratropics = merged_temp_hemisphere_latitude_df.groupby('Year')['Annual_Mean_Northern_Extratropics'].mean()\n",
    "annual_mean_southern_extratropics = merged_temp_hemisphere_latitude_df.groupby('Year')['Annual_Mean_Southern_Extratropics'].mean()\n",
    "annual_mean_tropics = merged_temp_hemisphere_latitude_df.groupby('Year')['Annual_Mean_Tropics'].mean()\n",
    "\n",
    "# Apply Lowess smoothing\n",
    "northern_extratropics_smoothed = sm.nonparametric.lowess(annual_mean_northern_extratropics, annual_mean_northern_extratropics.index, frac=0.1)\n",
    "southern_extratropics_smoothed = sm.nonparametric.lowess(annual_mean_southern_extratropics, annual_mean_southern_extratropics.index, frac=0.1)\n",
    "tropics_smoothed = sm.nonparametric.lowess(annual_mean_tropics, annual_mean_tropics.index, frac=0.1)\n",
    "\n",
    "\n"
   ]
  },
  {
   "cell_type": "markdown",
   "metadata": {},
   "source": [
    "#### Create  a line plot showing NH and SH Annual Mean temperatures along with their Lowess smoothing (The raw data points are also shown for reference) across three latitude bands (Northern Extratropics,Tropics,Southern Extratropics)"
   ]
  },
  {
   "cell_type": "code",
   "execution_count": 86,
   "metadata": {},
   "outputs": [
    {
     "data": {
      "application/vnd.plotly.v1+json": {
       "config": {
        "plotlyServerURL": "https://plot.ly"
       },
       "data": [
        {
         "marker": {
          "color": "blue"
         },
         "mode": "markers",
         "name": "Northern Extratropics (Raw)",
         "type": "scatter",
         "x": [
          1991,
          1992,
          1993,
          1994,
          1995,
          1996,
          1997,
          1998,
          1999,
          2000,
          2001,
          2002,
          2003,
          2004,
          2005,
          2006,
          2007,
          2008,
          2009,
          2010,
          2011,
          2012,
          2013,
          2014,
          2015,
          2016,
          2017,
          2018,
          2019,
          2020,
          2021
         ],
         "y": [
          0.47,
          0.1,
          0.13,
          0.43,
          0.7,
          0.23,
          0.54,
          0.78,
          0.7,
          0.7,
          0.8,
          0.83,
          0.84,
          0.73,
          1.01,
          0.99,
          1.13,
          0.91,
          0.78,
          1.02,
          0.98,
          1.04,
          0.95,
          1.07,
          1.31,
          1.55,
          1.38,
          1.24,
          1.42,
          1.67,
          1.42
         ]
        },
        {
         "marker": {
          "color": "red"
         },
         "mode": "markers",
         "name": "Southern Extratropics (Raw)",
         "type": "scatter",
         "x": [
          1991,
          1992,
          1993,
          1994,
          1995,
          1996,
          1997,
          1998,
          1999,
          2000,
          2001,
          2002,
          2003,
          2004,
          2005,
          2006,
          2007,
          2008,
          2009,
          2010,
          2011,
          2012,
          2013,
          2014,
          2015,
          2016,
          2017,
          2018,
          2019,
          2020,
          2021
         ],
         "y": [
          0.39,
          0.27,
          0.22,
          0.2,
          0.22,
          0.46,
          0.33,
          0.32,
          0.3,
          0.29,
          0.42,
          0.47,
          0.37,
          0.32,
          0.41,
          0.39,
          0.47,
          0.39,
          0.51,
          0.48,
          0.56,
          0.42,
          0.54,
          0.52,
          0.4,
          0.49,
          0.59,
          0.68,
          0.64,
          0.57,
          0.53
         ]
        },
        {
         "marker": {
          "color": "green"
         },
         "mode": "markers",
         "name": "Tropics (Raw)",
         "type": "scatter",
         "x": [
          1991,
          1992,
          1993,
          1994,
          1995,
          1996,
          1997,
          1998,
          1999,
          2000,
          2001,
          2002,
          2003,
          2004,
          2005,
          2006,
          2007,
          2008,
          2009,
          2010,
          2011,
          2012,
          2013,
          2014,
          2015,
          2016,
          2017,
          2018,
          2019,
          2020,
          2021
         ],
         "y": [
          0.36,
          0.28,
          0.32,
          0.31,
          0.42,
          0.32,
          0.51,
          0.69,
          0.2,
          0.25,
          0.42,
          0.59,
          0.64,
          0.55,
          0.62,
          0.56,
          0.46,
          0.37,
          0.68,
          0.68,
          0.37,
          0.52,
          0.58,
          0.67,
          0.96,
          1.01,
          0.82,
          0.67,
          0.9,
          0.86,
          0.66
         ]
        },
        {
         "line": {
          "color": "blue"
         },
         "mode": "lines",
         "name": "Northern Extratropics (Smoothed)",
         "type": "scatter",
         "x": [
          1991,
          1992,
          1993,
          1994,
          1995,
          1996,
          1997,
          1998,
          1999,
          2000,
          2001,
          2002,
          2003,
          2004,
          2005,
          2006,
          2007,
          2008,
          2009,
          2010,
          2011,
          2012,
          2013,
          2014,
          2015,
          2016,
          2017,
          2018,
          2019,
          2020,
          2021
         ],
         "y": [
          0.47,
          0.1,
          0.13,
          0.43,
          0.7,
          0.23,
          0.54,
          0.78,
          0.7,
          0.7,
          0.8,
          0.83,
          0.84,
          0.73,
          1.01,
          0.99,
          1.13,
          0.91,
          0.78,
          1.02,
          0.98,
          1.04,
          0.95,
          1.07,
          1.31,
          1.55,
          1.38,
          1.24,
          1.42,
          1.67,
          1.42
         ]
        },
        {
         "line": {
          "color": "red"
         },
         "mode": "lines",
         "name": "Southern Extratropics (Smoothed)",
         "type": "scatter",
         "x": [
          1991,
          1992,
          1993,
          1994,
          1995,
          1996,
          1997,
          1998,
          1999,
          2000,
          2001,
          2002,
          2003,
          2004,
          2005,
          2006,
          2007,
          2008,
          2009,
          2010,
          2011,
          2012,
          2013,
          2014,
          2015,
          2016,
          2017,
          2018,
          2019,
          2020,
          2021
         ],
         "y": [
          0.39,
          0.27,
          0.22,
          0.2,
          0.22,
          0.46,
          0.33,
          0.32,
          0.3,
          0.29,
          0.42,
          0.47,
          0.37,
          0.32,
          0.41,
          0.39,
          0.47,
          0.39,
          0.51,
          0.48,
          0.56,
          0.42,
          0.54,
          0.52,
          0.4,
          0.49,
          0.59,
          0.68,
          0.64,
          0.57,
          0.53
         ]
        },
        {
         "line": {
          "color": "green"
         },
         "mode": "lines",
         "name": "Tropics (Smoothed)",
         "type": "scatter",
         "x": [
          1991,
          1992,
          1993,
          1994,
          1995,
          1996,
          1997,
          1998,
          1999,
          2000,
          2001,
          2002,
          2003,
          2004,
          2005,
          2006,
          2007,
          2008,
          2009,
          2010,
          2011,
          2012,
          2013,
          2014,
          2015,
          2016,
          2017,
          2018,
          2019,
          2020,
          2021
         ],
         "y": [
          0.36,
          0.28,
          0.32,
          0.31,
          0.42,
          0.32,
          0.51,
          0.69,
          0.2,
          0.25,
          0.42,
          0.59,
          0.64,
          0.55,
          0.62,
          0.56,
          0.46,
          0.37,
          0.68,
          0.68,
          0.37,
          0.52,
          0.58,
          0.67,
          0.96,
          1.01,
          0.82,
          0.67,
          0.9,
          0.86,
          0.66
         ]
        }
       ],
       "layout": {
        "template": {
         "data": {
          "bar": [
           {
            "error_x": {
             "color": "#2a3f5f"
            },
            "error_y": {
             "color": "#2a3f5f"
            },
            "marker": {
             "line": {
              "color": "#E5ECF6",
              "width": 0.5
             },
             "pattern": {
              "fillmode": "overlay",
              "size": 10,
              "solidity": 0.2
             }
            },
            "type": "bar"
           }
          ],
          "barpolar": [
           {
            "marker": {
             "line": {
              "color": "#E5ECF6",
              "width": 0.5
             },
             "pattern": {
              "fillmode": "overlay",
              "size": 10,
              "solidity": 0.2
             }
            },
            "type": "barpolar"
           }
          ],
          "carpet": [
           {
            "aaxis": {
             "endlinecolor": "#2a3f5f",
             "gridcolor": "white",
             "linecolor": "white",
             "minorgridcolor": "white",
             "startlinecolor": "#2a3f5f"
            },
            "baxis": {
             "endlinecolor": "#2a3f5f",
             "gridcolor": "white",
             "linecolor": "white",
             "minorgridcolor": "white",
             "startlinecolor": "#2a3f5f"
            },
            "type": "carpet"
           }
          ],
          "choropleth": [
           {
            "colorbar": {
             "outlinewidth": 0,
             "ticks": ""
            },
            "type": "choropleth"
           }
          ],
          "contour": [
           {
            "colorbar": {
             "outlinewidth": 0,
             "ticks": ""
            },
            "colorscale": [
             [
              0,
              "#0d0887"
             ],
             [
              0.1111111111111111,
              "#46039f"
             ],
             [
              0.2222222222222222,
              "#7201a8"
             ],
             [
              0.3333333333333333,
              "#9c179e"
             ],
             [
              0.4444444444444444,
              "#bd3786"
             ],
             [
              0.5555555555555556,
              "#d8576b"
             ],
             [
              0.6666666666666666,
              "#ed7953"
             ],
             [
              0.7777777777777778,
              "#fb9f3a"
             ],
             [
              0.8888888888888888,
              "#fdca26"
             ],
             [
              1,
              "#f0f921"
             ]
            ],
            "type": "contour"
           }
          ],
          "contourcarpet": [
           {
            "colorbar": {
             "outlinewidth": 0,
             "ticks": ""
            },
            "type": "contourcarpet"
           }
          ],
          "heatmap": [
           {
            "colorbar": {
             "outlinewidth": 0,
             "ticks": ""
            },
            "colorscale": [
             [
              0,
              "#0d0887"
             ],
             [
              0.1111111111111111,
              "#46039f"
             ],
             [
              0.2222222222222222,
              "#7201a8"
             ],
             [
              0.3333333333333333,
              "#9c179e"
             ],
             [
              0.4444444444444444,
              "#bd3786"
             ],
             [
              0.5555555555555556,
              "#d8576b"
             ],
             [
              0.6666666666666666,
              "#ed7953"
             ],
             [
              0.7777777777777778,
              "#fb9f3a"
             ],
             [
              0.8888888888888888,
              "#fdca26"
             ],
             [
              1,
              "#f0f921"
             ]
            ],
            "type": "heatmap"
           }
          ],
          "heatmapgl": [
           {
            "colorbar": {
             "outlinewidth": 0,
             "ticks": ""
            },
            "colorscale": [
             [
              0,
              "#0d0887"
             ],
             [
              0.1111111111111111,
              "#46039f"
             ],
             [
              0.2222222222222222,
              "#7201a8"
             ],
             [
              0.3333333333333333,
              "#9c179e"
             ],
             [
              0.4444444444444444,
              "#bd3786"
             ],
             [
              0.5555555555555556,
              "#d8576b"
             ],
             [
              0.6666666666666666,
              "#ed7953"
             ],
             [
              0.7777777777777778,
              "#fb9f3a"
             ],
             [
              0.8888888888888888,
              "#fdca26"
             ],
             [
              1,
              "#f0f921"
             ]
            ],
            "type": "heatmapgl"
           }
          ],
          "histogram": [
           {
            "marker": {
             "pattern": {
              "fillmode": "overlay",
              "size": 10,
              "solidity": 0.2
             }
            },
            "type": "histogram"
           }
          ],
          "histogram2d": [
           {
            "colorbar": {
             "outlinewidth": 0,
             "ticks": ""
            },
            "colorscale": [
             [
              0,
              "#0d0887"
             ],
             [
              0.1111111111111111,
              "#46039f"
             ],
             [
              0.2222222222222222,
              "#7201a8"
             ],
             [
              0.3333333333333333,
              "#9c179e"
             ],
             [
              0.4444444444444444,
              "#bd3786"
             ],
             [
              0.5555555555555556,
              "#d8576b"
             ],
             [
              0.6666666666666666,
              "#ed7953"
             ],
             [
              0.7777777777777778,
              "#fb9f3a"
             ],
             [
              0.8888888888888888,
              "#fdca26"
             ],
             [
              1,
              "#f0f921"
             ]
            ],
            "type": "histogram2d"
           }
          ],
          "histogram2dcontour": [
           {
            "colorbar": {
             "outlinewidth": 0,
             "ticks": ""
            },
            "colorscale": [
             [
              0,
              "#0d0887"
             ],
             [
              0.1111111111111111,
              "#46039f"
             ],
             [
              0.2222222222222222,
              "#7201a8"
             ],
             [
              0.3333333333333333,
              "#9c179e"
             ],
             [
              0.4444444444444444,
              "#bd3786"
             ],
             [
              0.5555555555555556,
              "#d8576b"
             ],
             [
              0.6666666666666666,
              "#ed7953"
             ],
             [
              0.7777777777777778,
              "#fb9f3a"
             ],
             [
              0.8888888888888888,
              "#fdca26"
             ],
             [
              1,
              "#f0f921"
             ]
            ],
            "type": "histogram2dcontour"
           }
          ],
          "mesh3d": [
           {
            "colorbar": {
             "outlinewidth": 0,
             "ticks": ""
            },
            "type": "mesh3d"
           }
          ],
          "parcoords": [
           {
            "line": {
             "colorbar": {
              "outlinewidth": 0,
              "ticks": ""
             }
            },
            "type": "parcoords"
           }
          ],
          "pie": [
           {
            "automargin": true,
            "type": "pie"
           }
          ],
          "scatter": [
           {
            "fillpattern": {
             "fillmode": "overlay",
             "size": 10,
             "solidity": 0.2
            },
            "type": "scatter"
           }
          ],
          "scatter3d": [
           {
            "line": {
             "colorbar": {
              "outlinewidth": 0,
              "ticks": ""
             }
            },
            "marker": {
             "colorbar": {
              "outlinewidth": 0,
              "ticks": ""
             }
            },
            "type": "scatter3d"
           }
          ],
          "scattercarpet": [
           {
            "marker": {
             "colorbar": {
              "outlinewidth": 0,
              "ticks": ""
             }
            },
            "type": "scattercarpet"
           }
          ],
          "scattergeo": [
           {
            "marker": {
             "colorbar": {
              "outlinewidth": 0,
              "ticks": ""
             }
            },
            "type": "scattergeo"
           }
          ],
          "scattergl": [
           {
            "marker": {
             "colorbar": {
              "outlinewidth": 0,
              "ticks": ""
             }
            },
            "type": "scattergl"
           }
          ],
          "scattermapbox": [
           {
            "marker": {
             "colorbar": {
              "outlinewidth": 0,
              "ticks": ""
             }
            },
            "type": "scattermapbox"
           }
          ],
          "scatterpolar": [
           {
            "marker": {
             "colorbar": {
              "outlinewidth": 0,
              "ticks": ""
             }
            },
            "type": "scatterpolar"
           }
          ],
          "scatterpolargl": [
           {
            "marker": {
             "colorbar": {
              "outlinewidth": 0,
              "ticks": ""
             }
            },
            "type": "scatterpolargl"
           }
          ],
          "scatterternary": [
           {
            "marker": {
             "colorbar": {
              "outlinewidth": 0,
              "ticks": ""
             }
            },
            "type": "scatterternary"
           }
          ],
          "surface": [
           {
            "colorbar": {
             "outlinewidth": 0,
             "ticks": ""
            },
            "colorscale": [
             [
              0,
              "#0d0887"
             ],
             [
              0.1111111111111111,
              "#46039f"
             ],
             [
              0.2222222222222222,
              "#7201a8"
             ],
             [
              0.3333333333333333,
              "#9c179e"
             ],
             [
              0.4444444444444444,
              "#bd3786"
             ],
             [
              0.5555555555555556,
              "#d8576b"
             ],
             [
              0.6666666666666666,
              "#ed7953"
             ],
             [
              0.7777777777777778,
              "#fb9f3a"
             ],
             [
              0.8888888888888888,
              "#fdca26"
             ],
             [
              1,
              "#f0f921"
             ]
            ],
            "type": "surface"
           }
          ],
          "table": [
           {
            "cells": {
             "fill": {
              "color": "#EBF0F8"
             },
             "line": {
              "color": "white"
             }
            },
            "header": {
             "fill": {
              "color": "#C8D4E3"
             },
             "line": {
              "color": "white"
             }
            },
            "type": "table"
           }
          ]
         },
         "layout": {
          "annotationdefaults": {
           "arrowcolor": "#2a3f5f",
           "arrowhead": 0,
           "arrowwidth": 1
          },
          "autotypenumbers": "strict",
          "coloraxis": {
           "colorbar": {
            "outlinewidth": 0,
            "ticks": ""
           }
          },
          "colorscale": {
           "diverging": [
            [
             0,
             "#8e0152"
            ],
            [
             0.1,
             "#c51b7d"
            ],
            [
             0.2,
             "#de77ae"
            ],
            [
             0.3,
             "#f1b6da"
            ],
            [
             0.4,
             "#fde0ef"
            ],
            [
             0.5,
             "#f7f7f7"
            ],
            [
             0.6,
             "#e6f5d0"
            ],
            [
             0.7,
             "#b8e186"
            ],
            [
             0.8,
             "#7fbc41"
            ],
            [
             0.9,
             "#4d9221"
            ],
            [
             1,
             "#276419"
            ]
           ],
           "sequential": [
            [
             0,
             "#0d0887"
            ],
            [
             0.1111111111111111,
             "#46039f"
            ],
            [
             0.2222222222222222,
             "#7201a8"
            ],
            [
             0.3333333333333333,
             "#9c179e"
            ],
            [
             0.4444444444444444,
             "#bd3786"
            ],
            [
             0.5555555555555556,
             "#d8576b"
            ],
            [
             0.6666666666666666,
             "#ed7953"
            ],
            [
             0.7777777777777778,
             "#fb9f3a"
            ],
            [
             0.8888888888888888,
             "#fdca26"
            ],
            [
             1,
             "#f0f921"
            ]
           ],
           "sequentialminus": [
            [
             0,
             "#0d0887"
            ],
            [
             0.1111111111111111,
             "#46039f"
            ],
            [
             0.2222222222222222,
             "#7201a8"
            ],
            [
             0.3333333333333333,
             "#9c179e"
            ],
            [
             0.4444444444444444,
             "#bd3786"
            ],
            [
             0.5555555555555556,
             "#d8576b"
            ],
            [
             0.6666666666666666,
             "#ed7953"
            ],
            [
             0.7777777777777778,
             "#fb9f3a"
            ],
            [
             0.8888888888888888,
             "#fdca26"
            ],
            [
             1,
             "#f0f921"
            ]
           ]
          },
          "colorway": [
           "#636efa",
           "#EF553B",
           "#00cc96",
           "#ab63fa",
           "#FFA15A",
           "#19d3f3",
           "#FF6692",
           "#B6E880",
           "#FF97FF",
           "#FECB52"
          ],
          "font": {
           "color": "#2a3f5f"
          },
          "geo": {
           "bgcolor": "white",
           "lakecolor": "white",
           "landcolor": "#E5ECF6",
           "showlakes": true,
           "showland": true,
           "subunitcolor": "white"
          },
          "hoverlabel": {
           "align": "left"
          },
          "hovermode": "closest",
          "mapbox": {
           "style": "light"
          },
          "paper_bgcolor": "white",
          "plot_bgcolor": "#E5ECF6",
          "polar": {
           "angularaxis": {
            "gridcolor": "white",
            "linecolor": "white",
            "ticks": ""
           },
           "bgcolor": "#E5ECF6",
           "radialaxis": {
            "gridcolor": "white",
            "linecolor": "white",
            "ticks": ""
           }
          },
          "scene": {
           "xaxis": {
            "backgroundcolor": "#E5ECF6",
            "gridcolor": "white",
            "gridwidth": 2,
            "linecolor": "white",
            "showbackground": true,
            "ticks": "",
            "zerolinecolor": "white"
           },
           "yaxis": {
            "backgroundcolor": "#E5ECF6",
            "gridcolor": "white",
            "gridwidth": 2,
            "linecolor": "white",
            "showbackground": true,
            "ticks": "",
            "zerolinecolor": "white"
           },
           "zaxis": {
            "backgroundcolor": "#E5ECF6",
            "gridcolor": "white",
            "gridwidth": 2,
            "linecolor": "white",
            "showbackground": true,
            "ticks": "",
            "zerolinecolor": "white"
           }
          },
          "shapedefaults": {
           "line": {
            "color": "#2a3f5f"
           }
          },
          "ternary": {
           "aaxis": {
            "gridcolor": "white",
            "linecolor": "white",
            "ticks": ""
           },
           "baxis": {
            "gridcolor": "white",
            "linecolor": "white",
            "ticks": ""
           },
           "bgcolor": "#E5ECF6",
           "caxis": {
            "gridcolor": "white",
            "linecolor": "white",
            "ticks": ""
           }
          },
          "title": {
           "x": 0.05
          },
          "xaxis": {
           "automargin": true,
           "gridcolor": "white",
           "linecolor": "white",
           "ticks": "",
           "title": {
            "standoff": 15
           },
           "zerolinecolor": "white",
           "zerolinewidth": 2
          },
          "yaxis": {
           "automargin": true,
           "gridcolor": "white",
           "linecolor": "white",
           "ticks": "",
           "title": {
            "standoff": 15
           },
           "zerolinecolor": "white",
           "zerolinewidth": 2
          }
         }
        },
        "title": {
         "text": "Annual Mean Temperatures Across Three Latitude Bands"
        },
        "xaxis": {
         "title": {
          "text": "Year"
         }
        },
        "yaxis": {
         "title": {
          "text": "Temperature (°C)"
         }
        }
       }
      }
     },
     "metadata": {},
     "output_type": "display_data"
    }
   ],
   "source": [
    "\n",
    "\n",
    "# Create traces for raw data and smoothed data\n",
    "trace_northern = go.Scatter(x=annual_mean_northern_extratropics.index, y=annual_mean_northern_extratropics, mode='markers', name='Northern Extratropics (Raw)', marker=dict(color='blue'))\n",
    "trace_southern = go.Scatter(x=annual_mean_southern_extratropics.index, y=annual_mean_southern_extratropics, mode='markers', name='Southern Extratropics (Raw)', marker=dict(color='red'))\n",
    "trace_tropics = go.Scatter(x=annual_mean_tropics.index, y=annual_mean_tropics, mode='markers', name='Tropics (Raw)', marker=dict(color='green'))\n",
    "\n",
    "trace_northern_smoothed = go.Scatter(x=northern_extratropics_smoothed[:, 0], y=northern_extratropics_smoothed[:, 1], mode='lines', name='Northern Extratropics (Smoothed)', line=dict(color='blue'))\n",
    "trace_southern_smoothed = go.Scatter(x=southern_extratropics_smoothed[:, 0], y=southern_extratropics_smoothed[:, 1], mode='lines', name='Southern Extratropics (Smoothed)', line=dict(color='red'))\n",
    "trace_tropics_smoothed = go.Scatter(x=tropics_smoothed[:, 0], y=tropics_smoothed[:, 1], mode='lines', name='Tropics (Smoothed)', line=dict(color='green'))\n",
    "\n",
    "# Combine traces\n",
    "data = [trace_northern, trace_southern, trace_tropics, trace_northern_smoothed, trace_southern_smoothed, trace_tropics_smoothed]\n",
    "\n",
    "# Layout\n",
    "layout = go.Layout(title='Annual Mean Temperatures Across Three Latitude Bands',\n",
    "                   xaxis=dict(title='Year'),\n",
    "                   yaxis=dict(title='Temperature (°C)'))\n",
    "\n",
    "# Create figure\n",
    "fig = go.Figure(data=data, layout=layout)\n",
    "\n",
    "# Show plot\n",
    "fig.show()\n"
   ]
  },
  {
   "cell_type": "markdown",
   "metadata": {},
   "source": [
    "## Monthly Mean Global Surface Temperature"
   ]
  },
  {
   "cell_type": "code",
   "execution_count": 87,
   "metadata": {},
   "outputs": [
    {
     "name": "stdout",
     "output_type": "stream",
     "text": [
      "<class 'pandas.core.frame.DataFrame'>\n",
      "MultiIndex: 1729 entries, ('Year+Month', 'Station', 'Land+Ocean', 'Land_Only') to ('2023.96', '1.62', '1.37', '1.95')\n",
      "Data columns (total 1 columns):\n",
      " #   Column                                   Non-Null Count  Dtype \n",
      "---  ------                                   --------------  ----- \n",
      " 0   Monthly Mean Global Surface Temperature  1729 non-null   object\n",
      "dtypes: object(1)\n",
      "memory usage: 131.1+ KB\n"
     ]
    },
    {
     "data": {
      "text/plain": [
       "Index(['Monthly Mean Global Surface Temperature'], dtype='object')"
      ]
     },
     "execution_count": 87,
     "metadata": {},
     "output_type": "execute_result"
    }
   ],
   "source": [
    "# Read the CSV file into a pandas DataFrame\n",
    "df_temp_global_monthly_mean = pd.read_csv(parent_directory+\"\\\\data/historical_temperature/Monthly Mean Global Surface Temperature/temp_global_monthly_mean.csv\")\n",
    "df_temp_global_monthly_mean.info()\n",
    "df_temp_global_monthly_mean.shape\n",
    "df_temp_global_monthly_mean.columns"
   ]
  },
  {
   "cell_type": "markdown",
   "metadata": {},
   "source": [
    "#### Create a Plotly line plot to show the Monthly Mean Global Surface Temperature"
   ]
  },
  {
   "cell_type": "code",
   "execution_count": 88,
   "metadata": {},
   "outputs": [
    {
     "name": "stdout",
     "output_type": "stream",
     "text": [
      "Ignoring non-numeric value: Year+Month\n",
      "Ignoring non-numeric value: Open_Ocean\n"
     ]
    },
    {
     "data": {
      "application/vnd.plotly.v1+json": {
       "config": {
        "plotlyServerURL": "https://plot.ly"
       },
       "data": [
        {
         "marker": {
          "color": "blue"
         },
         "mode": "lines",
         "name": "Temperature",
         "type": "scatter",
         "x": [
          1991.04,
          1991.13,
          1991.21,
          1991.29,
          1991.38,
          1991.46,
          1991.54,
          1991.63,
          1991.71,
          1991.79,
          1991.88,
          1991.96,
          1992.04,
          1992.13,
          1992.21,
          1992.29,
          1992.38,
          1992.46,
          1992.54,
          1992.63,
          1992.71,
          1992.79,
          1992.88,
          1992.96,
          1993.04,
          1993.13,
          1993.21,
          1993.29,
          1993.38,
          1993.46,
          1993.54,
          1993.63,
          1993.71,
          1993.79,
          1993.88,
          1993.96,
          1994.04,
          1994.13,
          1994.21,
          1994.29,
          1994.38,
          1994.46,
          1994.54,
          1994.63,
          1994.71,
          1994.79,
          1994.88,
          1994.96,
          1995.04,
          1995.13,
          1995.21,
          1995.29,
          1995.38,
          1995.46,
          1995.54,
          1995.63,
          1995.71,
          1995.79,
          1995.88,
          1995.96,
          1996.04,
          1996.13,
          1996.21,
          1996.29,
          1996.38,
          1996.46,
          1996.54,
          1996.63,
          1996.71,
          1996.79,
          1996.88,
          1996.96,
          1997.04,
          1997.13,
          1997.21,
          1997.29,
          1997.38,
          1997.46,
          1997.54,
          1997.63,
          1997.71,
          1997.79,
          1997.88,
          1997.96,
          1998.04,
          1998.13,
          1998.21,
          1998.29,
          1998.38,
          1998.46,
          1998.54,
          1998.63,
          1998.71,
          1998.79,
          1998.88,
          1998.96,
          1999.04,
          1999.13,
          1999.21,
          1999.29,
          1999.38,
          1999.46,
          1999.54,
          1999.63,
          1999.71,
          1999.79,
          1999.88,
          1999.96,
          2000.04,
          2000.13,
          2000.21,
          2000.29,
          2000.38,
          2000.46,
          2000.54,
          2000.63,
          2000.71,
          2000.79,
          2000.88,
          2000.96,
          2001.04,
          2001.13,
          2001.21,
          2001.29,
          2001.38,
          2001.46,
          2001.54,
          2001.63,
          2001.71,
          2001.79,
          2001.88,
          2001.96,
          2002.04,
          2002.13,
          2002.21,
          2002.29,
          2002.38,
          2002.46,
          2002.54,
          2002.63,
          2002.71,
          2002.79,
          2002.88,
          2002.96,
          2003.04,
          2003.13,
          2003.21,
          2003.29,
          2003.38,
          2003.46,
          2003.54,
          2003.63,
          2003.71,
          2003.79,
          2003.88,
          2003.96,
          2004.04,
          2004.13,
          2004.21,
          2004.29,
          2004.38,
          2004.46,
          2004.54,
          2004.63,
          2004.71,
          2004.79,
          2004.88,
          2004.96,
          2005.04,
          2005.13,
          2005.21,
          2005.29,
          2005.38,
          2005.46,
          2005.54,
          2005.63,
          2005.71,
          2005.79,
          2005.88,
          2005.96,
          2006.04,
          2006.13,
          2006.21,
          2006.29,
          2006.38,
          2006.46,
          2006.54,
          2006.63,
          2006.71,
          2006.79,
          2006.88,
          2006.96,
          2007.04,
          2007.13,
          2007.21,
          2007.29,
          2007.38,
          2007.46,
          2007.54,
          2007.63,
          2007.71,
          2007.79,
          2007.88,
          2007.96,
          2008.04,
          2008.13,
          2008.21,
          2008.29,
          2008.38,
          2008.46,
          2008.54,
          2008.63,
          2008.71,
          2008.79,
          2008.88,
          2008.96,
          2009.04,
          2009.13,
          2009.21,
          2009.29,
          2009.38,
          2009.46,
          2009.54,
          2009.63,
          2009.71,
          2009.79,
          2009.88,
          2009.96,
          2010.04,
          2010.13,
          2010.21,
          2010.29,
          2010.38,
          2010.46,
          2010.54,
          2010.63,
          2010.71,
          2010.79,
          2010.88,
          2010.96,
          2011.04,
          2011.13,
          2011.21,
          2011.29,
          2011.38,
          2011.46,
          2011.54,
          2011.63,
          2011.71,
          2011.79,
          2011.88,
          2011.96,
          2012.04,
          2012.13,
          2012.21,
          2012.29,
          2012.38,
          2012.46,
          2012.54,
          2012.63,
          2012.71,
          2012.79,
          2012.88,
          2012.96,
          2013.04,
          2013.13,
          2013.21,
          2013.29,
          2013.38,
          2013.46,
          2013.54,
          2013.63,
          2013.71,
          2013.79,
          2013.88,
          2013.96,
          2014.04,
          2014.13,
          2014.21,
          2014.29,
          2014.38,
          2014.46,
          2014.54,
          2014.63,
          2014.71,
          2014.79,
          2014.88,
          2014.96,
          2015.04,
          2015.13,
          2015.21,
          2015.29,
          2015.38,
          2015.46,
          2015.54,
          2015.63,
          2015.71,
          2015.79,
          2015.88,
          2015.96,
          2016.04,
          2016.13,
          2016.21,
          2016.29,
          2016.38,
          2016.46,
          2016.54,
          2016.63,
          2016.71,
          2016.79,
          2016.88,
          2016.96,
          2017.04,
          2017.13,
          2017.21,
          2017.29,
          2017.38,
          2017.46,
          2017.54,
          2017.63,
          2017.71,
          2017.79,
          2017.88,
          2017.96,
          2018.04,
          2018.13,
          2018.21,
          2018.29,
          2018.38,
          2018.46,
          2018.54,
          2018.63,
          2018.71,
          2018.79,
          2018.88,
          2018.96,
          2019.04,
          2019.13,
          2019.21,
          2019.29,
          2019.38,
          2019.46,
          2019.54,
          2019.63,
          2019.71,
          2019.79,
          2019.88,
          2019.96,
          2020.04,
          2020.13,
          2020.21,
          2020.29,
          2020.38,
          2020.46,
          2020.54,
          2020.63,
          2020.71,
          2020.79,
          2020.88,
          2020.96
         ],
         "y": [
          0.31,
          0.29,
          0.3,
          0.37,
          0.34,
          0.34,
          0.32,
          0.29,
          0.26,
          0.22,
          0.25,
          0.25,
          0.23,
          0.27,
          0.28,
          0.31,
          0.32,
          0.31,
          0.2,
          0.13,
          0.14,
          0.12,
          0.12,
          0.15,
          0.22,
          0.22,
          0.23,
          0.25,
          0.28,
          0.27,
          0.19,
          0.17,
          0.2,
          0.19,
          0.2,
          0.16,
          0.16,
          0.17,
          0.22,
          0.24,
          0.25,
          0.23,
          0.23,
          0.23,
          0.2,
          0.29,
          0.32,
          0.33,
          0.3,
          0.32,
          0.31,
          0.29,
          0.24,
          0.27,
          0.3,
          0.3,
          0.24,
          0.25,
          0.29,
          0.22,
          0.2,
          0.25,
          0.27,
          0.27,
          0.24,
          0.26,
          0.21,
          0.26,
          0.24,
          0.21,
          0.22,
          0.23,
          0.2,
          0.26,
          0.3,
          0.29,
          0.34,
          0.4,
          0.43,
          0.45,
          0.5,
          0.52,
          0.51,
          0.53,
          0.5,
          0.51,
          0.49,
          0.5,
          0.51,
          0.5,
          0.47,
          0.45,
          0.31,
          0.33,
          0.37,
          0.31,
          0.25,
          0.24,
          0.32,
          0.29,
          0.23,
          0.22,
          0.2,
          0.19,
          0.19,
          0.17,
          0.18,
          0.21,
          0.21,
          0.24,
          0.25,
          0.26,
          0.23,
          0.2,
          0.23,
          0.27,
          0.3,
          0.3,
          0.27,
          0.27,
          0.27,
          0.29,
          0.35,
          0.38,
          0.38,
          0.41,
          0.42,
          0.41,
          0.4,
          0.42,
          0.4,
          0.4,
          0.38,
          0.4,
          0.44,
          0.44,
          0.44,
          0.46,
          0.4,
          0.38,
          0.39,
          0.41,
          0.39,
          0.43,
          0.39,
          0.42,
          0.45,
          0.42,
          0.41,
          0.42,
          0.45,
          0.5,
          0.5,
          0.51,
          0.45,
          0.42,
          0.43,
          0.46,
          0.43,
          0.46,
          0.38,
          0.37,
          0.43,
          0.45,
          0.45,
          0.46,
          0.45,
          0.43,
          0.42,
          0.4,
          0.43,
          0.43,
          0.46,
          0.45,
          0.48,
          0.48,
          0.44,
          0.4,
          0.38,
          0.36,
          0.37,
          0.37,
          0.36,
          0.4,
          0.42,
          0.44,
          0.44,
          0.46,
          0.47,
          0.44,
          0.48,
          0.45,
          0.44,
          0.42,
          0.37,
          0.37,
          0.35,
          0.4,
          0.37,
          0.32,
          0.33,
          0.3,
          0.24,
          0.2,
          0.22,
          0.23,
          0.27,
          0.28,
          0.3,
          0.35,
          0.39,
          0.42,
          0.41,
          0.4,
          0.36,
          0.37,
          0.35,
          0.31,
          0.36,
          0.4,
          0.46,
          0.56,
          0.55,
          0.55,
          0.48,
          0.51,
          0.52,
          0.58,
          0.55,
          0.55,
          0.56,
          0.55,
          0.52,
          0.5,
          0.47,
          0.46,
          0.42,
          0.37,
          0.34,
          0.32,
          0.31,
          0.34,
          0.35,
          0.36,
          0.38,
          0.41,
          0.38,
          0.38,
          0.35,
          0.33,
          0.34,
          0.29,
          0.3,
          0.34,
          0.32,
          0.37,
          0.42,
          0.42,
          0.45,
          0.48,
          0.5,
          0.49,
          0.46,
          0.46,
          0.38,
          0.4,
          0.42,
          0.45,
          0.46,
          0.44,
          0.5,
          0.53,
          0.5,
          0.48,
          0.49,
          0.45,
          0.43,
          0.43,
          0.46,
          0.53,
          0.56,
          0.61,
          0.59,
          0.65,
          0.65,
          0.59,
          0.56,
          0.55,
          0.54,
          0.52,
          0.56,
          0.62,
          0.66,
          0.69,
          0.69,
          0.72,
          0.77,
          0.81,
          0.8,
          0.79,
          0.82,
          0.74,
          0.76,
          0.73,
          0.69,
          0.72,
          0.72,
          0.71,
          0.68,
          0.67,
          0.57,
          0.58,
          0.64,
          0.66,
          0.66,
          0.68,
          0.64,
          0.65,
          0.68,
          0.7,
          0.64,
          0.63,
          0.59,
          0.53,
          0.51,
          0.5,
          0.53,
          0.59,
          0.6,
          0.58,
          0.57,
          0.59,
          0.63,
          0.7,
          0.68,
          0.66,
          0.64,
          0.64,
          0.66,
          0.67,
          0.63,
          0.71,
          0.74,
          0.73,
          0.67,
          0.69,
          0.69,
          0.67,
          0.71,
          0.7,
          0.72,
          0.76,
          0.71,
          0.68,
          0.7,
          0.71,
          0.65,
          0.6,
          0.55,
          0.49
         ]
        }
       ],
       "layout": {
        "hovermode": "closest",
        "template": {
         "data": {
          "bar": [
           {
            "error_x": {
             "color": "#2a3f5f"
            },
            "error_y": {
             "color": "#2a3f5f"
            },
            "marker": {
             "line": {
              "color": "white",
              "width": 0.5
             },
             "pattern": {
              "fillmode": "overlay",
              "size": 10,
              "solidity": 0.2
             }
            },
            "type": "bar"
           }
          ],
          "barpolar": [
           {
            "marker": {
             "line": {
              "color": "white",
              "width": 0.5
             },
             "pattern": {
              "fillmode": "overlay",
              "size": 10,
              "solidity": 0.2
             }
            },
            "type": "barpolar"
           }
          ],
          "carpet": [
           {
            "aaxis": {
             "endlinecolor": "#2a3f5f",
             "gridcolor": "#C8D4E3",
             "linecolor": "#C8D4E3",
             "minorgridcolor": "#C8D4E3",
             "startlinecolor": "#2a3f5f"
            },
            "baxis": {
             "endlinecolor": "#2a3f5f",
             "gridcolor": "#C8D4E3",
             "linecolor": "#C8D4E3",
             "minorgridcolor": "#C8D4E3",
             "startlinecolor": "#2a3f5f"
            },
            "type": "carpet"
           }
          ],
          "choropleth": [
           {
            "colorbar": {
             "outlinewidth": 0,
             "ticks": ""
            },
            "type": "choropleth"
           }
          ],
          "contour": [
           {
            "colorbar": {
             "outlinewidth": 0,
             "ticks": ""
            },
            "colorscale": [
             [
              0,
              "#0d0887"
             ],
             [
              0.1111111111111111,
              "#46039f"
             ],
             [
              0.2222222222222222,
              "#7201a8"
             ],
             [
              0.3333333333333333,
              "#9c179e"
             ],
             [
              0.4444444444444444,
              "#bd3786"
             ],
             [
              0.5555555555555556,
              "#d8576b"
             ],
             [
              0.6666666666666666,
              "#ed7953"
             ],
             [
              0.7777777777777778,
              "#fb9f3a"
             ],
             [
              0.8888888888888888,
              "#fdca26"
             ],
             [
              1,
              "#f0f921"
             ]
            ],
            "type": "contour"
           }
          ],
          "contourcarpet": [
           {
            "colorbar": {
             "outlinewidth": 0,
             "ticks": ""
            },
            "type": "contourcarpet"
           }
          ],
          "heatmap": [
           {
            "colorbar": {
             "outlinewidth": 0,
             "ticks": ""
            },
            "colorscale": [
             [
              0,
              "#0d0887"
             ],
             [
              0.1111111111111111,
              "#46039f"
             ],
             [
              0.2222222222222222,
              "#7201a8"
             ],
             [
              0.3333333333333333,
              "#9c179e"
             ],
             [
              0.4444444444444444,
              "#bd3786"
             ],
             [
              0.5555555555555556,
              "#d8576b"
             ],
             [
              0.6666666666666666,
              "#ed7953"
             ],
             [
              0.7777777777777778,
              "#fb9f3a"
             ],
             [
              0.8888888888888888,
              "#fdca26"
             ],
             [
              1,
              "#f0f921"
             ]
            ],
            "type": "heatmap"
           }
          ],
          "heatmapgl": [
           {
            "colorbar": {
             "outlinewidth": 0,
             "ticks": ""
            },
            "colorscale": [
             [
              0,
              "#0d0887"
             ],
             [
              0.1111111111111111,
              "#46039f"
             ],
             [
              0.2222222222222222,
              "#7201a8"
             ],
             [
              0.3333333333333333,
              "#9c179e"
             ],
             [
              0.4444444444444444,
              "#bd3786"
             ],
             [
              0.5555555555555556,
              "#d8576b"
             ],
             [
              0.6666666666666666,
              "#ed7953"
             ],
             [
              0.7777777777777778,
              "#fb9f3a"
             ],
             [
              0.8888888888888888,
              "#fdca26"
             ],
             [
              1,
              "#f0f921"
             ]
            ],
            "type": "heatmapgl"
           }
          ],
          "histogram": [
           {
            "marker": {
             "pattern": {
              "fillmode": "overlay",
              "size": 10,
              "solidity": 0.2
             }
            },
            "type": "histogram"
           }
          ],
          "histogram2d": [
           {
            "colorbar": {
             "outlinewidth": 0,
             "ticks": ""
            },
            "colorscale": [
             [
              0,
              "#0d0887"
             ],
             [
              0.1111111111111111,
              "#46039f"
             ],
             [
              0.2222222222222222,
              "#7201a8"
             ],
             [
              0.3333333333333333,
              "#9c179e"
             ],
             [
              0.4444444444444444,
              "#bd3786"
             ],
             [
              0.5555555555555556,
              "#d8576b"
             ],
             [
              0.6666666666666666,
              "#ed7953"
             ],
             [
              0.7777777777777778,
              "#fb9f3a"
             ],
             [
              0.8888888888888888,
              "#fdca26"
             ],
             [
              1,
              "#f0f921"
             ]
            ],
            "type": "histogram2d"
           }
          ],
          "histogram2dcontour": [
           {
            "colorbar": {
             "outlinewidth": 0,
             "ticks": ""
            },
            "colorscale": [
             [
              0,
              "#0d0887"
             ],
             [
              0.1111111111111111,
              "#46039f"
             ],
             [
              0.2222222222222222,
              "#7201a8"
             ],
             [
              0.3333333333333333,
              "#9c179e"
             ],
             [
              0.4444444444444444,
              "#bd3786"
             ],
             [
              0.5555555555555556,
              "#d8576b"
             ],
             [
              0.6666666666666666,
              "#ed7953"
             ],
             [
              0.7777777777777778,
              "#fb9f3a"
             ],
             [
              0.8888888888888888,
              "#fdca26"
             ],
             [
              1,
              "#f0f921"
             ]
            ],
            "type": "histogram2dcontour"
           }
          ],
          "mesh3d": [
           {
            "colorbar": {
             "outlinewidth": 0,
             "ticks": ""
            },
            "type": "mesh3d"
           }
          ],
          "parcoords": [
           {
            "line": {
             "colorbar": {
              "outlinewidth": 0,
              "ticks": ""
             }
            },
            "type": "parcoords"
           }
          ],
          "pie": [
           {
            "automargin": true,
            "type": "pie"
           }
          ],
          "scatter": [
           {
            "fillpattern": {
             "fillmode": "overlay",
             "size": 10,
             "solidity": 0.2
            },
            "type": "scatter"
           }
          ],
          "scatter3d": [
           {
            "line": {
             "colorbar": {
              "outlinewidth": 0,
              "ticks": ""
             }
            },
            "marker": {
             "colorbar": {
              "outlinewidth": 0,
              "ticks": ""
             }
            },
            "type": "scatter3d"
           }
          ],
          "scattercarpet": [
           {
            "marker": {
             "colorbar": {
              "outlinewidth": 0,
              "ticks": ""
             }
            },
            "type": "scattercarpet"
           }
          ],
          "scattergeo": [
           {
            "marker": {
             "colorbar": {
              "outlinewidth": 0,
              "ticks": ""
             }
            },
            "type": "scattergeo"
           }
          ],
          "scattergl": [
           {
            "marker": {
             "colorbar": {
              "outlinewidth": 0,
              "ticks": ""
             }
            },
            "type": "scattergl"
           }
          ],
          "scattermapbox": [
           {
            "marker": {
             "colorbar": {
              "outlinewidth": 0,
              "ticks": ""
             }
            },
            "type": "scattermapbox"
           }
          ],
          "scatterpolar": [
           {
            "marker": {
             "colorbar": {
              "outlinewidth": 0,
              "ticks": ""
             }
            },
            "type": "scatterpolar"
           }
          ],
          "scatterpolargl": [
           {
            "marker": {
             "colorbar": {
              "outlinewidth": 0,
              "ticks": ""
             }
            },
            "type": "scatterpolargl"
           }
          ],
          "scatterternary": [
           {
            "marker": {
             "colorbar": {
              "outlinewidth": 0,
              "ticks": ""
             }
            },
            "type": "scatterternary"
           }
          ],
          "surface": [
           {
            "colorbar": {
             "outlinewidth": 0,
             "ticks": ""
            },
            "colorscale": [
             [
              0,
              "#0d0887"
             ],
             [
              0.1111111111111111,
              "#46039f"
             ],
             [
              0.2222222222222222,
              "#7201a8"
             ],
             [
              0.3333333333333333,
              "#9c179e"
             ],
             [
              0.4444444444444444,
              "#bd3786"
             ],
             [
              0.5555555555555556,
              "#d8576b"
             ],
             [
              0.6666666666666666,
              "#ed7953"
             ],
             [
              0.7777777777777778,
              "#fb9f3a"
             ],
             [
              0.8888888888888888,
              "#fdca26"
             ],
             [
              1,
              "#f0f921"
             ]
            ],
            "type": "surface"
           }
          ],
          "table": [
           {
            "cells": {
             "fill": {
              "color": "#EBF0F8"
             },
             "line": {
              "color": "white"
             }
            },
            "header": {
             "fill": {
              "color": "#C8D4E3"
             },
             "line": {
              "color": "white"
             }
            },
            "type": "table"
           }
          ]
         },
         "layout": {
          "annotationdefaults": {
           "arrowcolor": "#2a3f5f",
           "arrowhead": 0,
           "arrowwidth": 1
          },
          "autotypenumbers": "strict",
          "coloraxis": {
           "colorbar": {
            "outlinewidth": 0,
            "ticks": ""
           }
          },
          "colorscale": {
           "diverging": [
            [
             0,
             "#8e0152"
            ],
            [
             0.1,
             "#c51b7d"
            ],
            [
             0.2,
             "#de77ae"
            ],
            [
             0.3,
             "#f1b6da"
            ],
            [
             0.4,
             "#fde0ef"
            ],
            [
             0.5,
             "#f7f7f7"
            ],
            [
             0.6,
             "#e6f5d0"
            ],
            [
             0.7,
             "#b8e186"
            ],
            [
             0.8,
             "#7fbc41"
            ],
            [
             0.9,
             "#4d9221"
            ],
            [
             1,
             "#276419"
            ]
           ],
           "sequential": [
            [
             0,
             "#0d0887"
            ],
            [
             0.1111111111111111,
             "#46039f"
            ],
            [
             0.2222222222222222,
             "#7201a8"
            ],
            [
             0.3333333333333333,
             "#9c179e"
            ],
            [
             0.4444444444444444,
             "#bd3786"
            ],
            [
             0.5555555555555556,
             "#d8576b"
            ],
            [
             0.6666666666666666,
             "#ed7953"
            ],
            [
             0.7777777777777778,
             "#fb9f3a"
            ],
            [
             0.8888888888888888,
             "#fdca26"
            ],
            [
             1,
             "#f0f921"
            ]
           ],
           "sequentialminus": [
            [
             0,
             "#0d0887"
            ],
            [
             0.1111111111111111,
             "#46039f"
            ],
            [
             0.2222222222222222,
             "#7201a8"
            ],
            [
             0.3333333333333333,
             "#9c179e"
            ],
            [
             0.4444444444444444,
             "#bd3786"
            ],
            [
             0.5555555555555556,
             "#d8576b"
            ],
            [
             0.6666666666666666,
             "#ed7953"
            ],
            [
             0.7777777777777778,
             "#fb9f3a"
            ],
            [
             0.8888888888888888,
             "#fdca26"
            ],
            [
             1,
             "#f0f921"
            ]
           ]
          },
          "colorway": [
           "#636efa",
           "#EF553B",
           "#00cc96",
           "#ab63fa",
           "#FFA15A",
           "#19d3f3",
           "#FF6692",
           "#B6E880",
           "#FF97FF",
           "#FECB52"
          ],
          "font": {
           "color": "#2a3f5f"
          },
          "geo": {
           "bgcolor": "white",
           "lakecolor": "white",
           "landcolor": "white",
           "showlakes": true,
           "showland": true,
           "subunitcolor": "#C8D4E3"
          },
          "hoverlabel": {
           "align": "left"
          },
          "hovermode": "closest",
          "mapbox": {
           "style": "light"
          },
          "paper_bgcolor": "white",
          "plot_bgcolor": "white",
          "polar": {
           "angularaxis": {
            "gridcolor": "#EBF0F8",
            "linecolor": "#EBF0F8",
            "ticks": ""
           },
           "bgcolor": "white",
           "radialaxis": {
            "gridcolor": "#EBF0F8",
            "linecolor": "#EBF0F8",
            "ticks": ""
           }
          },
          "scene": {
           "xaxis": {
            "backgroundcolor": "white",
            "gridcolor": "#DFE8F3",
            "gridwidth": 2,
            "linecolor": "#EBF0F8",
            "showbackground": true,
            "ticks": "",
            "zerolinecolor": "#EBF0F8"
           },
           "yaxis": {
            "backgroundcolor": "white",
            "gridcolor": "#DFE8F3",
            "gridwidth": 2,
            "linecolor": "#EBF0F8",
            "showbackground": true,
            "ticks": "",
            "zerolinecolor": "#EBF0F8"
           },
           "zaxis": {
            "backgroundcolor": "white",
            "gridcolor": "#DFE8F3",
            "gridwidth": 2,
            "linecolor": "#EBF0F8",
            "showbackground": true,
            "ticks": "",
            "zerolinecolor": "#EBF0F8"
           }
          },
          "shapedefaults": {
           "line": {
            "color": "#2a3f5f"
           }
          },
          "ternary": {
           "aaxis": {
            "gridcolor": "#DFE8F3",
            "linecolor": "#A2B1C6",
            "ticks": ""
           },
           "baxis": {
            "gridcolor": "#DFE8F3",
            "linecolor": "#A2B1C6",
            "ticks": ""
           },
           "bgcolor": "white",
           "caxis": {
            "gridcolor": "#DFE8F3",
            "linecolor": "#A2B1C6",
            "ticks": ""
           }
          },
          "title": {
           "x": 0.05
          },
          "xaxis": {
           "automargin": true,
           "gridcolor": "#EBF0F8",
           "linecolor": "#EBF0F8",
           "ticks": "",
           "title": {
            "standoff": 15
           },
           "zerolinecolor": "#EBF0F8",
           "zerolinewidth": 2
          },
          "yaxis": {
           "automargin": true,
           "gridcolor": "#EBF0F8",
           "linecolor": "#EBF0F8",
           "ticks": "",
           "title": {
            "standoff": 15
           },
           "zerolinecolor": "#EBF0F8",
           "zerolinewidth": 2
          }
         }
        },
        "title": {
         "text": "Monthly Mean Global Surface Temperature (Land+Ocean) from year 1991 to 2021"
        },
        "xaxis": {
         "title": {
          "text": "Year"
         }
        },
        "yaxis": {
         "title": {
          "text": "Temperature (°C)"
         }
        }
       }
      }
     },
     "metadata": {},
     "output_type": "display_data"
    }
   ],
   "source": [
    "# create a trace using go.Scatter with years_months_numeric as the x-axis data and\n",
    "# land_ocean_temp_numeric as the y-axis data. The mode is set to 'lines' to create a line plot,\n",
    "# and we specify the marker color as blue.\n",
    "years_months_numeric = []\n",
    "years_months = df_temp_global_monthly_mean.index\n",
    "land_ocean_temp = df_temp_global_monthly_mean['Monthly Mean Global Surface Temperature']\n",
    "\n",
    "for year_month in years_months:\n",
    "    if isinstance(year_month, tuple):\n",
    "        # Assuming the first element of the tuple is the year-month value\n",
    "        if isinstance(year_month[0], str) and year_month[0].replace('.', '', 1).isdigit():\n",
    "            year_month_value = float(year_month[0])\n",
    "            years_months_numeric.append(year_month_value)\n",
    "        else:\n",
    "            print(f\"Ignoring non-numeric value: {year_month[0]}\")\n",
    "    else:\n",
    "        print(\"Ignoring non-tuple value\")\n",
    "\n",
    "# print(years_months_numeric)\n",
    "\n",
    "\n",
    "land_ocean_temp_numeric = []\n",
    "\n",
    "for temp in land_ocean_temp:\n",
    "    if isinstance(temp, str):\n",
    "        # Check if the string represents a numeric value (including negative numbers)\n",
    "        if temp.lstrip('-').replace('.', '', 1).isdigit():\n",
    "            land_ocean_temp_numeric.append(float(temp))\n",
    "        else:\n",
    "            print(f\"Ignoring non-numeric value: {temp}\")\n",
    "    else:\n",
    "        print(\"Ignoring non-string value\")\n",
    "\n",
    "# Filter data for the years 1991 to 2021\n",
    "filtered_years = []\n",
    "filtered_temperatures = []\n",
    "\n",
    "for year, temp in zip(years_months_numeric, land_ocean_temp_numeric):\n",
    "    if 1991 <= year <= 2021:\n",
    "        filtered_years.append(year)\n",
    "        filtered_temperatures.append(temp)\n",
    "\n",
    "\n",
    "# Create a trace for the line plot\n",
    "trace = go.Scatter(x=filtered_years, y=filtered_temperatures, mode='lines', marker=dict(color='blue'), name='Temperature')\n",
    "\n",
    "# Create layout for the plot\n",
    "layout = go.Layout(\n",
    "    title='Monthly Mean Global Surface Temperature (Land+Ocean) from year 1991 to 2021',\n",
    "    xaxis=dict(title='Year'),\n",
    "    yaxis=dict(title='Temperature (°C)'),\n",
    "    hovermode='closest',\n",
    "    template='plotly_white'\n",
    ")\n",
    "\n",
    "# Create figure object\n",
    "fig = go.Figure(data=[trace], layout=layout)\n",
    "\n",
    "# Show plot\n",
    "fig.show()\n"
   ]
  }
 ],
 "metadata": {
  "kernelspec": {
   "display_name": "Python 3",
   "language": "python",
   "name": "python3"
  },
  "language_info": {
   "codemirror_mode": {
    "name": "ipython",
    "version": 3
   },
   "file_extension": ".py",
   "mimetype": "text/x-python",
   "name": "python",
   "nbconvert_exporter": "python",
   "pygments_lexer": "ipython3",
   "version": "3.12.0"
  }
 },
 "nbformat": 4,
 "nbformat_minor": 2
}
